{
 "cells": [
  {
   "cell_type": "code",
   "execution_count": 30,
   "metadata": {
    "collapsed": true
   },
   "outputs": [],
   "source": [
    "import requests\n",
    "from bs4 import BeautifulSoup\n",
    "import pandas as pd\n",
    "import numpy as np\n",
    "import matplotlib.pyplot as plt\n",
    "from selenium import webdriver\n",
    "import selenium\n",
    "import time\n",
    "from selenium.webdriver.common.by import By\n",
    "from selenium.webdriver.support.ui import WebDriverWait\n",
    "from selenium.webdriver.support import expected_conditions as EC\n",
    "from selenium.common.exceptions import TimeoutException, NoSuchElementException, InvalidSelectorException\n",
    "import numpy as np\n",
    "import string\n",
    "import pandas as pd\n",
    "from collections import defaultdict\n",
    "from pymongo import MongoClient\n",
    "import json\n",
    "import pickle"
   ]
  },
  {
   "cell_type": "code",
   "execution_count": 120,
   "metadata": {
    "collapsed": true
   },
   "outputs": [],
   "source": [
    "with open('data/allrecipe_chicken_recipelist.pkl', 'rb') as f:\n",
    "        link_list = pickle.load(f)"
   ]
  },
  {
   "cell_type": "code",
   "execution_count": 121,
   "metadata": {
    "collapsed": false
   },
   "outputs": [
    {
     "data": {
      "text/plain": [
       "['/recipe/213068/grill-master-chicken-wings/', '/recipe/141169/easy-indian-butter-chicken/', '/recipes/728/world-cuisine/latin-american/mexican/', '/recipes/739/healthy-recipes/diabetic/', '/recipe/23312/japanese-chicken-wings/', '/recipes/1231/healthy-recipes/low-fat/', '/recipes/276/desserts/cakes/', '/recipe/23874/catherines-spicy-chicken-soup/', '/recipes/94/soups-stews-and-chili/', '/recipes/201']"
      ]
     },
     "execution_count": 121,
     "metadata": {},
     "output_type": "execute_result"
    }
   ],
   "source": [
    "link_list[:10]"
   ]
  },
  {
   "cell_type": "code",
   "execution_count": 131,
   "metadata": {
    "collapsed": false
   },
   "outputs": [
    {
     "name": "stdout",
     "output_type": "stream",
     "text": [
      "/recipe/213068/grill-master-chicken-wings/\n"
     ]
    }
   ],
   "source": [
    "link = link_list[0]\n",
    "print (link)"
   ]
  },
  {
   "cell_type": "code",
   "execution_count": 19,
   "metadata": {
    "collapsed": true
   },
   "outputs": [],
   "source": [
    "# num = np.random.randint(2) # built in pause\n",
    "# time.sleep(num)\n",
    "# options = webdriver.ChromeOptions()\n",
    "# options.add_argument('window-size=800x841')\n",
    "# options.add_argument('headless')\n",
    "# driver = webdriver.Chrome(chrome_options=options)\n",
    "\n",
    "driver = webdriver.Chrome()\n",
    "# driver.get('http:allrecipes.com' + link)\n",
    "driver.get('http://allrecipes.com/recipe/25155/red-skinned-potato-salad/')"
   ]
  },
  {
   "cell_type": "code",
   "execution_count": 17,
   "metadata": {
    "collapsed": true
   },
   "outputs": [],
   "source": [
    "from selenium.webdriver.common.action_chains import ActionChains\n"
   ]
  },
  {
   "cell_type": "code",
   "execution_count": 21,
   "metadata": {
    "collapsed": false
   },
   "outputs": [],
   "source": [
    "driver.execute_script(\"window.scrollTo(0, document.body.scrollHeight);\")  #to bottom of page"
   ]
  },
  {
   "cell_type": "code",
   "execution_count": 22,
   "metadata": {
    "collapsed": true
   },
   "outputs": [],
   "source": [
    "\"\"\"this works to open the review page\"\"\"\n",
    "review_window = driver.find_element_by_class_name(\"review-count\") # this opens the window\n",
    "try:\n",
    "    ActionChains(driver).move_to_element(review_window).click().perform()\n",
    "except InvalidSelectorException:\n",
    "    print('why??')"
   ]
  },
  {
   "cell_type": "code",
   "execution_count": 9,
   "metadata": {
    "collapsed": false
   },
   "outputs": [
    {
     "ename": "NoSuchElementException",
     "evalue": "Message: no such element: Unable to locate element: {\"method\":\"xpath\",\"selector\":\"/html/body/iframe[7]\"}\n  (Session info: chrome=61.0.3163.100)\n  (Driver info: chromedriver=2.32.498537 (cb2f855cbc7b82e20387eaf9a43f6b99b6105061),platform=Mac OS X 10.12.6 x86_64)\n",
     "output_type": "error",
     "traceback": [
      "\u001b[0;31m---------------------------------------------------------------------------\u001b[0m",
      "\u001b[0;31mNoSuchElementException\u001b[0m                    Traceback (most recent call last)",
      "\u001b[0;32m<ipython-input-9-05cc72518ba0>\u001b[0m in \u001b[0;36m<module>\u001b[0;34m()\u001b[0m\n\u001b[0;32m----> 1\u001b[0;31m \u001b[0mframe_path\u001b[0m \u001b[0;34m=\u001b[0m \u001b[0mdriver\u001b[0m\u001b[0;34m.\u001b[0m\u001b[0mfind_element_by_xpath\u001b[0m\u001b[0;34m(\u001b[0m\u001b[0;34m'/html/body/iframe[7]'\u001b[0m\u001b[0;34m)\u001b[0m\u001b[0;34m\u001b[0m\u001b[0m\n\u001b[0m\u001b[1;32m      2\u001b[0m \u001b[0mdriver\u001b[0m\u001b[0;34m.\u001b[0m\u001b[0mswitch_to_frame\u001b[0m\u001b[0;34m(\u001b[0m\u001b[0mframe_path\u001b[0m\u001b[0;34m)\u001b[0m \u001b[0;31m# switches to popup frame\u001b[0m\u001b[0;34m\u001b[0m\u001b[0m\n",
      "\u001b[0;32m/Applications/anaconda/envs/py36/lib/python3.6/site-packages/selenium/webdriver/remote/webdriver.py\u001b[0m in \u001b[0;36mfind_element_by_xpath\u001b[0;34m(self, xpath)\u001b[0m\n\u001b[1;32m    352\u001b[0m             \u001b[0mdriver\u001b[0m\u001b[0;34m.\u001b[0m\u001b[0mfind_element_by_xpath\u001b[0m\u001b[0;34m(\u001b[0m\u001b[0;34m'//div/td[1]'\u001b[0m\u001b[0;34m)\u001b[0m\u001b[0;34m\u001b[0m\u001b[0m\n\u001b[1;32m    353\u001b[0m         \"\"\"\n\u001b[0;32m--> 354\u001b[0;31m         \u001b[0;32mreturn\u001b[0m \u001b[0mself\u001b[0m\u001b[0;34m.\u001b[0m\u001b[0mfind_element\u001b[0m\u001b[0;34m(\u001b[0m\u001b[0mby\u001b[0m\u001b[0;34m=\u001b[0m\u001b[0mBy\u001b[0m\u001b[0;34m.\u001b[0m\u001b[0mXPATH\u001b[0m\u001b[0;34m,\u001b[0m \u001b[0mvalue\u001b[0m\u001b[0;34m=\u001b[0m\u001b[0mxpath\u001b[0m\u001b[0;34m)\u001b[0m\u001b[0;34m\u001b[0m\u001b[0m\n\u001b[0m\u001b[1;32m    355\u001b[0m \u001b[0;34m\u001b[0m\u001b[0m\n\u001b[1;32m    356\u001b[0m     \u001b[0;32mdef\u001b[0m \u001b[0mfind_elements_by_xpath\u001b[0m\u001b[0;34m(\u001b[0m\u001b[0mself\u001b[0m\u001b[0;34m,\u001b[0m \u001b[0mxpath\u001b[0m\u001b[0;34m)\u001b[0m\u001b[0;34m:\u001b[0m\u001b[0;34m\u001b[0m\u001b[0m\n",
      "\u001b[0;32m/Applications/anaconda/envs/py36/lib/python3.6/site-packages/selenium/webdriver/remote/webdriver.py\u001b[0m in \u001b[0;36mfind_element\u001b[0;34m(self, by, value)\u001b[0m\n\u001b[1;32m    830\u001b[0m         return self.execute(Command.FIND_ELEMENT, {\n\u001b[1;32m    831\u001b[0m             \u001b[0;34m'using'\u001b[0m\u001b[0;34m:\u001b[0m \u001b[0mby\u001b[0m\u001b[0;34m,\u001b[0m\u001b[0;34m\u001b[0m\u001b[0m\n\u001b[0;32m--> 832\u001b[0;31m             'value': value})['value']\n\u001b[0m\u001b[1;32m    833\u001b[0m \u001b[0;34m\u001b[0m\u001b[0m\n\u001b[1;32m    834\u001b[0m     \u001b[0;32mdef\u001b[0m \u001b[0mfind_elements\u001b[0m\u001b[0;34m(\u001b[0m\u001b[0mself\u001b[0m\u001b[0;34m,\u001b[0m \u001b[0mby\u001b[0m\u001b[0;34m=\u001b[0m\u001b[0mBy\u001b[0m\u001b[0;34m.\u001b[0m\u001b[0mID\u001b[0m\u001b[0;34m,\u001b[0m \u001b[0mvalue\u001b[0m\u001b[0;34m=\u001b[0m\u001b[0;32mNone\u001b[0m\u001b[0;34m)\u001b[0m\u001b[0;34m:\u001b[0m\u001b[0;34m\u001b[0m\u001b[0m\n",
      "\u001b[0;32m/Applications/anaconda/envs/py36/lib/python3.6/site-packages/selenium/webdriver/remote/webdriver.py\u001b[0m in \u001b[0;36mexecute\u001b[0;34m(self, driver_command, params)\u001b[0m\n\u001b[1;32m    295\u001b[0m         \u001b[0mresponse\u001b[0m \u001b[0;34m=\u001b[0m \u001b[0mself\u001b[0m\u001b[0;34m.\u001b[0m\u001b[0mcommand_executor\u001b[0m\u001b[0;34m.\u001b[0m\u001b[0mexecute\u001b[0m\u001b[0;34m(\u001b[0m\u001b[0mdriver_command\u001b[0m\u001b[0;34m,\u001b[0m \u001b[0mparams\u001b[0m\u001b[0;34m)\u001b[0m\u001b[0;34m\u001b[0m\u001b[0m\n\u001b[1;32m    296\u001b[0m         \u001b[0;32mif\u001b[0m \u001b[0mresponse\u001b[0m\u001b[0;34m:\u001b[0m\u001b[0;34m\u001b[0m\u001b[0m\n\u001b[0;32m--> 297\u001b[0;31m             \u001b[0mself\u001b[0m\u001b[0;34m.\u001b[0m\u001b[0merror_handler\u001b[0m\u001b[0;34m.\u001b[0m\u001b[0mcheck_response\u001b[0m\u001b[0;34m(\u001b[0m\u001b[0mresponse\u001b[0m\u001b[0;34m)\u001b[0m\u001b[0;34m\u001b[0m\u001b[0m\n\u001b[0m\u001b[1;32m    298\u001b[0m             response['value'] = self._unwrap_value(\n\u001b[1;32m    299\u001b[0m                 response.get('value', None))\n",
      "\u001b[0;32m/Applications/anaconda/envs/py36/lib/python3.6/site-packages/selenium/webdriver/remote/errorhandler.py\u001b[0m in \u001b[0;36mcheck_response\u001b[0;34m(self, response)\u001b[0m\n\u001b[1;32m    192\u001b[0m         \u001b[0;32melif\u001b[0m \u001b[0mexception_class\u001b[0m \u001b[0;34m==\u001b[0m \u001b[0mUnexpectedAlertPresentException\u001b[0m \u001b[0;32mand\u001b[0m \u001b[0;34m'alert'\u001b[0m \u001b[0;32min\u001b[0m \u001b[0mvalue\u001b[0m\u001b[0;34m:\u001b[0m\u001b[0;34m\u001b[0m\u001b[0m\n\u001b[1;32m    193\u001b[0m             \u001b[0;32mraise\u001b[0m \u001b[0mexception_class\u001b[0m\u001b[0;34m(\u001b[0m\u001b[0mmessage\u001b[0m\u001b[0;34m,\u001b[0m \u001b[0mscreen\u001b[0m\u001b[0;34m,\u001b[0m \u001b[0mstacktrace\u001b[0m\u001b[0;34m,\u001b[0m \u001b[0mvalue\u001b[0m\u001b[0;34m[\u001b[0m\u001b[0;34m'alert'\u001b[0m\u001b[0;34m]\u001b[0m\u001b[0;34m.\u001b[0m\u001b[0mget\u001b[0m\u001b[0;34m(\u001b[0m\u001b[0;34m'text'\u001b[0m\u001b[0;34m)\u001b[0m\u001b[0;34m)\u001b[0m\u001b[0;34m\u001b[0m\u001b[0m\n\u001b[0;32m--> 194\u001b[0;31m         \u001b[0;32mraise\u001b[0m \u001b[0mexception_class\u001b[0m\u001b[0;34m(\u001b[0m\u001b[0mmessage\u001b[0m\u001b[0;34m,\u001b[0m \u001b[0mscreen\u001b[0m\u001b[0;34m,\u001b[0m \u001b[0mstacktrace\u001b[0m\u001b[0;34m)\u001b[0m\u001b[0;34m\u001b[0m\u001b[0m\n\u001b[0m\u001b[1;32m    195\u001b[0m \u001b[0;34m\u001b[0m\u001b[0m\n\u001b[1;32m    196\u001b[0m     \u001b[0;32mdef\u001b[0m \u001b[0m_value_or_default\u001b[0m\u001b[0;34m(\u001b[0m\u001b[0mself\u001b[0m\u001b[0;34m,\u001b[0m \u001b[0mobj\u001b[0m\u001b[0;34m,\u001b[0m \u001b[0mkey\u001b[0m\u001b[0;34m,\u001b[0m \u001b[0mdefault\u001b[0m\u001b[0;34m)\u001b[0m\u001b[0;34m:\u001b[0m\u001b[0;34m\u001b[0m\u001b[0m\n",
      "\u001b[0;31mNoSuchElementException\u001b[0m: Message: no such element: Unable to locate element: {\"method\":\"xpath\",\"selector\":\"/html/body/iframe[7]\"}\n  (Session info: chrome=61.0.3163.100)\n  (Driver info: chromedriver=2.32.498537 (cb2f855cbc7b82e20387eaf9a43f6b99b6105061),platform=Mac OS X 10.12.6 x86_64)\n"
     ]
    }
   ],
   "source": [
    "frame_path = driver.find_element_by_xpath('/html/body/iframe[7]')\n",
    "driver.switch_to_frame(frame_path) # switches to popup frame"
   ]
  },
  {
   "cell_type": "code",
   "execution_count": 166,
   "metadata": {
    "collapsed": true
   },
   "outputs": [],
   "source": [
    "# content = driver.find_element_by_id('ngdialog1-aria-describeby')"
   ]
  },
  {
   "cell_type": "code",
   "execution_count": 20,
   "metadata": {
    "collapsed": false
   },
   "outputs": [
    {
     "ename": "NoSuchElementException",
     "evalue": "Message: no such element: Unable to locate element: {\"method\":\"xpath\",\"selector\":\"//*[@id=\"ngdialog1-aria-describedby\"]/div/div[3]/div[1]\"}\n  (Session info: chrome=61.0.3163.100)\n  (Driver info: chromedriver=2.32.498537 (cb2f855cbc7b82e20387eaf9a43f6b99b6105061),platform=Mac OS X 10.12.6 x86_64)\n",
     "output_type": "error",
     "traceback": [
      "\u001b[0;31m---------------------------------------------------------------------------\u001b[0m",
      "\u001b[0;31mNoSuchElementException\u001b[0m                    Traceback (most recent call last)",
      "\u001b[0;32m<ipython-input-20-a07e49e5f79a>\u001b[0m in \u001b[0;36m<module>\u001b[0;34m()\u001b[0m\n\u001b[0;32m----> 1\u001b[0;31m \u001b[0mright_click\u001b[0m \u001b[0;34m=\u001b[0m \u001b[0mdriver\u001b[0m\u001b[0;34m.\u001b[0m\u001b[0mfind_element_by_xpath\u001b[0m\u001b[0;34m(\u001b[0m\u001b[0;34m'//*[@id=\"ngdialog1-aria-describedby\"]/div/div[3]/div[1]'\u001b[0m\u001b[0;34m)\u001b[0m\u001b[0;34m\u001b[0m\u001b[0m\n\u001b[0m\u001b[1;32m      2\u001b[0m \u001b[0;32mtry\u001b[0m\u001b[0;34m:\u001b[0m\u001b[0;34m\u001b[0m\u001b[0m\n\u001b[1;32m      3\u001b[0m     \u001b[0mright_click\u001b[0m\u001b[0;34m.\u001b[0m\u001b[0mng\u001b[0m\u001b[0;34m-\u001b[0m\u001b[0mclick\u001b[0m\u001b[0;34m(\u001b[0m\u001b[0;34m)\u001b[0m\u001b[0;34m\u001b[0m\u001b[0m\n\u001b[1;32m      4\u001b[0m \u001b[0;31m#     ActionChains(driver).move_to_element(right_click).click().perform()\u001b[0m\u001b[0;34m\u001b[0m\u001b[0;34m\u001b[0m\u001b[0m\n\u001b[1;32m      5\u001b[0m \u001b[0;32mexcept\u001b[0m \u001b[0mInvalidSelectorException\u001b[0m\u001b[0;34m:\u001b[0m\u001b[0;34m\u001b[0m\u001b[0m\n",
      "\u001b[0;32m/Applications/anaconda/envs/py36/lib/python3.6/site-packages/selenium/webdriver/remote/webdriver.py\u001b[0m in \u001b[0;36mfind_element_by_xpath\u001b[0;34m(self, xpath)\u001b[0m\n\u001b[1;32m    352\u001b[0m             \u001b[0mdriver\u001b[0m\u001b[0;34m.\u001b[0m\u001b[0mfind_element_by_xpath\u001b[0m\u001b[0;34m(\u001b[0m\u001b[0;34m'//div/td[1]'\u001b[0m\u001b[0;34m)\u001b[0m\u001b[0;34m\u001b[0m\u001b[0m\n\u001b[1;32m    353\u001b[0m         \"\"\"\n\u001b[0;32m--> 354\u001b[0;31m         \u001b[0;32mreturn\u001b[0m \u001b[0mself\u001b[0m\u001b[0;34m.\u001b[0m\u001b[0mfind_element\u001b[0m\u001b[0;34m(\u001b[0m\u001b[0mby\u001b[0m\u001b[0;34m=\u001b[0m\u001b[0mBy\u001b[0m\u001b[0;34m.\u001b[0m\u001b[0mXPATH\u001b[0m\u001b[0;34m,\u001b[0m \u001b[0mvalue\u001b[0m\u001b[0;34m=\u001b[0m\u001b[0mxpath\u001b[0m\u001b[0;34m)\u001b[0m\u001b[0;34m\u001b[0m\u001b[0m\n\u001b[0m\u001b[1;32m    355\u001b[0m \u001b[0;34m\u001b[0m\u001b[0m\n\u001b[1;32m    356\u001b[0m     \u001b[0;32mdef\u001b[0m \u001b[0mfind_elements_by_xpath\u001b[0m\u001b[0;34m(\u001b[0m\u001b[0mself\u001b[0m\u001b[0;34m,\u001b[0m \u001b[0mxpath\u001b[0m\u001b[0;34m)\u001b[0m\u001b[0;34m:\u001b[0m\u001b[0;34m\u001b[0m\u001b[0m\n",
      "\u001b[0;32m/Applications/anaconda/envs/py36/lib/python3.6/site-packages/selenium/webdriver/remote/webdriver.py\u001b[0m in \u001b[0;36mfind_element\u001b[0;34m(self, by, value)\u001b[0m\n\u001b[1;32m    830\u001b[0m         return self.execute(Command.FIND_ELEMENT, {\n\u001b[1;32m    831\u001b[0m             \u001b[0;34m'using'\u001b[0m\u001b[0;34m:\u001b[0m \u001b[0mby\u001b[0m\u001b[0;34m,\u001b[0m\u001b[0;34m\u001b[0m\u001b[0m\n\u001b[0;32m--> 832\u001b[0;31m             'value': value})['value']\n\u001b[0m\u001b[1;32m    833\u001b[0m \u001b[0;34m\u001b[0m\u001b[0m\n\u001b[1;32m    834\u001b[0m     \u001b[0;32mdef\u001b[0m \u001b[0mfind_elements\u001b[0m\u001b[0;34m(\u001b[0m\u001b[0mself\u001b[0m\u001b[0;34m,\u001b[0m \u001b[0mby\u001b[0m\u001b[0;34m=\u001b[0m\u001b[0mBy\u001b[0m\u001b[0;34m.\u001b[0m\u001b[0mID\u001b[0m\u001b[0;34m,\u001b[0m \u001b[0mvalue\u001b[0m\u001b[0;34m=\u001b[0m\u001b[0;32mNone\u001b[0m\u001b[0;34m)\u001b[0m\u001b[0;34m:\u001b[0m\u001b[0;34m\u001b[0m\u001b[0m\n",
      "\u001b[0;32m/Applications/anaconda/envs/py36/lib/python3.6/site-packages/selenium/webdriver/remote/webdriver.py\u001b[0m in \u001b[0;36mexecute\u001b[0;34m(self, driver_command, params)\u001b[0m\n\u001b[1;32m    295\u001b[0m         \u001b[0mresponse\u001b[0m \u001b[0;34m=\u001b[0m \u001b[0mself\u001b[0m\u001b[0;34m.\u001b[0m\u001b[0mcommand_executor\u001b[0m\u001b[0;34m.\u001b[0m\u001b[0mexecute\u001b[0m\u001b[0;34m(\u001b[0m\u001b[0mdriver_command\u001b[0m\u001b[0;34m,\u001b[0m \u001b[0mparams\u001b[0m\u001b[0;34m)\u001b[0m\u001b[0;34m\u001b[0m\u001b[0m\n\u001b[1;32m    296\u001b[0m         \u001b[0;32mif\u001b[0m \u001b[0mresponse\u001b[0m\u001b[0;34m:\u001b[0m\u001b[0;34m\u001b[0m\u001b[0m\n\u001b[0;32m--> 297\u001b[0;31m             \u001b[0mself\u001b[0m\u001b[0;34m.\u001b[0m\u001b[0merror_handler\u001b[0m\u001b[0;34m.\u001b[0m\u001b[0mcheck_response\u001b[0m\u001b[0;34m(\u001b[0m\u001b[0mresponse\u001b[0m\u001b[0;34m)\u001b[0m\u001b[0;34m\u001b[0m\u001b[0m\n\u001b[0m\u001b[1;32m    298\u001b[0m             response['value'] = self._unwrap_value(\n\u001b[1;32m    299\u001b[0m                 response.get('value', None))\n",
      "\u001b[0;32m/Applications/anaconda/envs/py36/lib/python3.6/site-packages/selenium/webdriver/remote/errorhandler.py\u001b[0m in \u001b[0;36mcheck_response\u001b[0;34m(self, response)\u001b[0m\n\u001b[1;32m    192\u001b[0m         \u001b[0;32melif\u001b[0m \u001b[0mexception_class\u001b[0m \u001b[0;34m==\u001b[0m \u001b[0mUnexpectedAlertPresentException\u001b[0m \u001b[0;32mand\u001b[0m \u001b[0;34m'alert'\u001b[0m \u001b[0;32min\u001b[0m \u001b[0mvalue\u001b[0m\u001b[0;34m:\u001b[0m\u001b[0;34m\u001b[0m\u001b[0m\n\u001b[1;32m    193\u001b[0m             \u001b[0;32mraise\u001b[0m \u001b[0mexception_class\u001b[0m\u001b[0;34m(\u001b[0m\u001b[0mmessage\u001b[0m\u001b[0;34m,\u001b[0m \u001b[0mscreen\u001b[0m\u001b[0;34m,\u001b[0m \u001b[0mstacktrace\u001b[0m\u001b[0;34m,\u001b[0m \u001b[0mvalue\u001b[0m\u001b[0;34m[\u001b[0m\u001b[0;34m'alert'\u001b[0m\u001b[0;34m]\u001b[0m\u001b[0;34m.\u001b[0m\u001b[0mget\u001b[0m\u001b[0;34m(\u001b[0m\u001b[0;34m'text'\u001b[0m\u001b[0;34m)\u001b[0m\u001b[0;34m)\u001b[0m\u001b[0;34m\u001b[0m\u001b[0m\n\u001b[0;32m--> 194\u001b[0;31m         \u001b[0;32mraise\u001b[0m \u001b[0mexception_class\u001b[0m\u001b[0;34m(\u001b[0m\u001b[0mmessage\u001b[0m\u001b[0;34m,\u001b[0m \u001b[0mscreen\u001b[0m\u001b[0;34m,\u001b[0m \u001b[0mstacktrace\u001b[0m\u001b[0;34m)\u001b[0m\u001b[0;34m\u001b[0m\u001b[0m\n\u001b[0m\u001b[1;32m    195\u001b[0m \u001b[0;34m\u001b[0m\u001b[0m\n\u001b[1;32m    196\u001b[0m     \u001b[0;32mdef\u001b[0m \u001b[0m_value_or_default\u001b[0m\u001b[0;34m(\u001b[0m\u001b[0mself\u001b[0m\u001b[0;34m,\u001b[0m \u001b[0mobj\u001b[0m\u001b[0;34m,\u001b[0m \u001b[0mkey\u001b[0m\u001b[0;34m,\u001b[0m \u001b[0mdefault\u001b[0m\u001b[0;34m)\u001b[0m\u001b[0;34m:\u001b[0m\u001b[0;34m\u001b[0m\u001b[0m\n",
      "\u001b[0;31mNoSuchElementException\u001b[0m: Message: no such element: Unable to locate element: {\"method\":\"xpath\",\"selector\":\"//*[@id=\"ngdialog1-aria-describedby\"]/div/div[3]/div[1]\"}\n  (Session info: chrome=61.0.3163.100)\n  (Driver info: chromedriver=2.32.498537 (cb2f855cbc7b82e20387eaf9a43f6b99b6105061),platform=Mac OS X 10.12.6 x86_64)\n"
     ]
    }
   ],
   "source": [
    "right_click = driver.find_element_by_xpath('//*[@id=\"ngdialog1-aria-describedby\"]/div/div[3]/div[1]')\n",
    "try:\n",
    "    right_click.ng-click()\n",
    "#     ActionChains(driver).move_to_element(right_click).click().perform()\n",
    "except InvalidSelectorException:\n",
    "    print('why??')"
   ]
  },
  {
   "cell_type": "code",
   "execution_count": 143,
   "metadata": {
    "collapsed": true
   },
   "outputs": [],
   "source": [
    "# innerHTML = driver.execute_script(\"return document.text.innerHTML\") #returns the inner HTML as a string"
   ]
  },
  {
   "cell_type": "code",
   "execution_count": 6,
   "metadata": {
    "collapsed": false
   },
   "outputs": [
    {
     "name": "stdout",
     "output_type": "stream",
     "text": [
      "why not\n"
     ]
    }
   ],
   "source": [
    "try:\n",
    "    reviews = driver.find_element_by_xpath('//*[@id=\"ngdialog1-aria-describedby\"]/div/div[3]/div[1]')\n",
    "    bs = BeautifulSoup(reviews.get_attribute(\"outerHTML\"), \"html5lib\")\n",
    "except (NoSuchElementException, TimeoutException):\n",
    "    print('why not')"
   ]
  },
  {
   "cell_type": "code",
   "execution_count": null,
   "metadata": {
    "collapsed": true
   },
   "outputs": [],
   "source": []
  },
  {
   "cell_type": "code",
   "execution_count": 128,
   "metadata": {
    "collapsed": true
   },
   "outputs": [],
   "source": [
    "# from lxml import html\n",
    "# page = BeautifulSoup(innerHTML, 'html.parser') #parse innerHTML\n",
    "# fset = page.get_element_by_id(\"fsetdesc\") #get the fieldset"
   ]
  },
  {
   "cell_type": "code",
   "execution_count": null,
   "metadata": {
    "collapsed": true
   },
   "outputs": [],
   "source": []
  },
  {
   "cell_type": "code",
   "execution_count": 23,
   "metadata": {
    "collapsed": false
   },
   "outputs": [
    {
     "ename": "NoSuchElementException",
     "evalue": "Message: no such element: Unable to locate element: {\"method\":\"xpath\",\"selector\":\"//*[@id=\"BI_loadReview2_right\"]\"}\n  (Session info: chrome=61.0.3163.100)\n  (Driver info: chromedriver=2.32.498537 (cb2f855cbc7b82e20387eaf9a43f6b99b6105061),platform=Mac OS X 10.12.6 x86_64)\n",
     "output_type": "error",
     "traceback": [
      "\u001b[0;31m---------------------------------------------------------------------------\u001b[0m",
      "\u001b[0;31mNoSuchElementException\u001b[0m                    Traceback (most recent call last)",
      "\u001b[0;32m<ipython-input-23-233e818aaf4e>\u001b[0m in \u001b[0;36m<module>\u001b[0;34m()\u001b[0m\n\u001b[1;32m      1\u001b[0m \u001b[0;34m\"\"\"This one works to scroll the window\"\"\"\u001b[0m\u001b[0;34m\u001b[0m\u001b[0m\n\u001b[0;32m----> 2\u001b[0;31m \u001b[0mright_button\u001b[0m \u001b[0;34m=\u001b[0m \u001b[0mdriver\u001b[0m\u001b[0;34m.\u001b[0m\u001b[0mfind_element_by_xpath\u001b[0m\u001b[0;34m(\u001b[0m\u001b[0;34m'//*[@id=\"BI_loadReview2_right\"]'\u001b[0m\u001b[0;34m)\u001b[0m\u001b[0;34m\u001b[0m\u001b[0m\n\u001b[0m\u001b[1;32m      3\u001b[0m \u001b[0;32mtry\u001b[0m\u001b[0;34m:\u001b[0m\u001b[0;34m\u001b[0m\u001b[0m\n\u001b[1;32m      4\u001b[0m     \u001b[0mActionChains\u001b[0m\u001b[0;34m(\u001b[0m\u001b[0mdriver\u001b[0m\u001b[0;34m)\u001b[0m\u001b[0;34m.\u001b[0m\u001b[0mmove_to_element\u001b[0m\u001b[0;34m(\u001b[0m\u001b[0mright_button\u001b[0m\u001b[0;34m)\u001b[0m\u001b[0;34m.\u001b[0m\u001b[0mclick\u001b[0m\u001b[0;34m(\u001b[0m\u001b[0;34m)\u001b[0m\u001b[0;34m.\u001b[0m\u001b[0mperform\u001b[0m\u001b[0;34m(\u001b[0m\u001b[0;34m)\u001b[0m\u001b[0;34m\u001b[0m\u001b[0m\n\u001b[1;32m      5\u001b[0m \u001b[0;32mexcept\u001b[0m \u001b[0mInvalidSelectorException\u001b[0m\u001b[0;34m:\u001b[0m\u001b[0;34m\u001b[0m\u001b[0m\n",
      "\u001b[0;32m/Applications/anaconda/envs/py36/lib/python3.6/site-packages/selenium/webdriver/remote/webdriver.py\u001b[0m in \u001b[0;36mfind_element_by_xpath\u001b[0;34m(self, xpath)\u001b[0m\n\u001b[1;32m    352\u001b[0m             \u001b[0mdriver\u001b[0m\u001b[0;34m.\u001b[0m\u001b[0mfind_element_by_xpath\u001b[0m\u001b[0;34m(\u001b[0m\u001b[0;34m'//div/td[1]'\u001b[0m\u001b[0;34m)\u001b[0m\u001b[0;34m\u001b[0m\u001b[0m\n\u001b[1;32m    353\u001b[0m         \"\"\"\n\u001b[0;32m--> 354\u001b[0;31m         \u001b[0;32mreturn\u001b[0m \u001b[0mself\u001b[0m\u001b[0;34m.\u001b[0m\u001b[0mfind_element\u001b[0m\u001b[0;34m(\u001b[0m\u001b[0mby\u001b[0m\u001b[0;34m=\u001b[0m\u001b[0mBy\u001b[0m\u001b[0;34m.\u001b[0m\u001b[0mXPATH\u001b[0m\u001b[0;34m,\u001b[0m \u001b[0mvalue\u001b[0m\u001b[0;34m=\u001b[0m\u001b[0mxpath\u001b[0m\u001b[0;34m)\u001b[0m\u001b[0;34m\u001b[0m\u001b[0m\n\u001b[0m\u001b[1;32m    355\u001b[0m \u001b[0;34m\u001b[0m\u001b[0m\n\u001b[1;32m    356\u001b[0m     \u001b[0;32mdef\u001b[0m \u001b[0mfind_elements_by_xpath\u001b[0m\u001b[0;34m(\u001b[0m\u001b[0mself\u001b[0m\u001b[0;34m,\u001b[0m \u001b[0mxpath\u001b[0m\u001b[0;34m)\u001b[0m\u001b[0;34m:\u001b[0m\u001b[0;34m\u001b[0m\u001b[0m\n",
      "\u001b[0;32m/Applications/anaconda/envs/py36/lib/python3.6/site-packages/selenium/webdriver/remote/webdriver.py\u001b[0m in \u001b[0;36mfind_element\u001b[0;34m(self, by, value)\u001b[0m\n\u001b[1;32m    830\u001b[0m         return self.execute(Command.FIND_ELEMENT, {\n\u001b[1;32m    831\u001b[0m             \u001b[0;34m'using'\u001b[0m\u001b[0;34m:\u001b[0m \u001b[0mby\u001b[0m\u001b[0;34m,\u001b[0m\u001b[0;34m\u001b[0m\u001b[0m\n\u001b[0;32m--> 832\u001b[0;31m             'value': value})['value']\n\u001b[0m\u001b[1;32m    833\u001b[0m \u001b[0;34m\u001b[0m\u001b[0m\n\u001b[1;32m    834\u001b[0m     \u001b[0;32mdef\u001b[0m \u001b[0mfind_elements\u001b[0m\u001b[0;34m(\u001b[0m\u001b[0mself\u001b[0m\u001b[0;34m,\u001b[0m \u001b[0mby\u001b[0m\u001b[0;34m=\u001b[0m\u001b[0mBy\u001b[0m\u001b[0;34m.\u001b[0m\u001b[0mID\u001b[0m\u001b[0;34m,\u001b[0m \u001b[0mvalue\u001b[0m\u001b[0;34m=\u001b[0m\u001b[0;32mNone\u001b[0m\u001b[0;34m)\u001b[0m\u001b[0;34m:\u001b[0m\u001b[0;34m\u001b[0m\u001b[0m\n",
      "\u001b[0;32m/Applications/anaconda/envs/py36/lib/python3.6/site-packages/selenium/webdriver/remote/webdriver.py\u001b[0m in \u001b[0;36mexecute\u001b[0;34m(self, driver_command, params)\u001b[0m\n\u001b[1;32m    295\u001b[0m         \u001b[0mresponse\u001b[0m \u001b[0;34m=\u001b[0m \u001b[0mself\u001b[0m\u001b[0;34m.\u001b[0m\u001b[0mcommand_executor\u001b[0m\u001b[0;34m.\u001b[0m\u001b[0mexecute\u001b[0m\u001b[0;34m(\u001b[0m\u001b[0mdriver_command\u001b[0m\u001b[0;34m,\u001b[0m \u001b[0mparams\u001b[0m\u001b[0;34m)\u001b[0m\u001b[0;34m\u001b[0m\u001b[0m\n\u001b[1;32m    296\u001b[0m         \u001b[0;32mif\u001b[0m \u001b[0mresponse\u001b[0m\u001b[0;34m:\u001b[0m\u001b[0;34m\u001b[0m\u001b[0m\n\u001b[0;32m--> 297\u001b[0;31m             \u001b[0mself\u001b[0m\u001b[0;34m.\u001b[0m\u001b[0merror_handler\u001b[0m\u001b[0;34m.\u001b[0m\u001b[0mcheck_response\u001b[0m\u001b[0;34m(\u001b[0m\u001b[0mresponse\u001b[0m\u001b[0;34m)\u001b[0m\u001b[0;34m\u001b[0m\u001b[0m\n\u001b[0m\u001b[1;32m    298\u001b[0m             response['value'] = self._unwrap_value(\n\u001b[1;32m    299\u001b[0m                 response.get('value', None))\n",
      "\u001b[0;32m/Applications/anaconda/envs/py36/lib/python3.6/site-packages/selenium/webdriver/remote/errorhandler.py\u001b[0m in \u001b[0;36mcheck_response\u001b[0;34m(self, response)\u001b[0m\n\u001b[1;32m    192\u001b[0m         \u001b[0;32melif\u001b[0m \u001b[0mexception_class\u001b[0m \u001b[0;34m==\u001b[0m \u001b[0mUnexpectedAlertPresentException\u001b[0m \u001b[0;32mand\u001b[0m \u001b[0;34m'alert'\u001b[0m \u001b[0;32min\u001b[0m \u001b[0mvalue\u001b[0m\u001b[0;34m:\u001b[0m\u001b[0;34m\u001b[0m\u001b[0m\n\u001b[1;32m    193\u001b[0m             \u001b[0;32mraise\u001b[0m \u001b[0mexception_class\u001b[0m\u001b[0;34m(\u001b[0m\u001b[0mmessage\u001b[0m\u001b[0;34m,\u001b[0m \u001b[0mscreen\u001b[0m\u001b[0;34m,\u001b[0m \u001b[0mstacktrace\u001b[0m\u001b[0;34m,\u001b[0m \u001b[0mvalue\u001b[0m\u001b[0;34m[\u001b[0m\u001b[0;34m'alert'\u001b[0m\u001b[0;34m]\u001b[0m\u001b[0;34m.\u001b[0m\u001b[0mget\u001b[0m\u001b[0;34m(\u001b[0m\u001b[0;34m'text'\u001b[0m\u001b[0;34m)\u001b[0m\u001b[0;34m)\u001b[0m\u001b[0;34m\u001b[0m\u001b[0m\n\u001b[0;32m--> 194\u001b[0;31m         \u001b[0;32mraise\u001b[0m \u001b[0mexception_class\u001b[0m\u001b[0;34m(\u001b[0m\u001b[0mmessage\u001b[0m\u001b[0;34m,\u001b[0m \u001b[0mscreen\u001b[0m\u001b[0;34m,\u001b[0m \u001b[0mstacktrace\u001b[0m\u001b[0;34m)\u001b[0m\u001b[0;34m\u001b[0m\u001b[0m\n\u001b[0m\u001b[1;32m    195\u001b[0m \u001b[0;34m\u001b[0m\u001b[0m\n\u001b[1;32m    196\u001b[0m     \u001b[0;32mdef\u001b[0m \u001b[0m_value_or_default\u001b[0m\u001b[0;34m(\u001b[0m\u001b[0mself\u001b[0m\u001b[0;34m,\u001b[0m \u001b[0mobj\u001b[0m\u001b[0;34m,\u001b[0m \u001b[0mkey\u001b[0m\u001b[0;34m,\u001b[0m \u001b[0mdefault\u001b[0m\u001b[0;34m)\u001b[0m\u001b[0;34m:\u001b[0m\u001b[0;34m\u001b[0m\u001b[0m\n",
      "\u001b[0;31mNoSuchElementException\u001b[0m: Message: no such element: Unable to locate element: {\"method\":\"xpath\",\"selector\":\"//*[@id=\"BI_loadReview2_right\"]\"}\n  (Session info: chrome=61.0.3163.100)\n  (Driver info: chromedriver=2.32.498537 (cb2f855cbc7b82e20387eaf9a43f6b99b6105061),platform=Mac OS X 10.12.6 x86_64)\n"
     ]
    }
   ],
   "source": [
    "\"\"\"This one works to scroll the window\"\"\"\n",
    "right_button = driver.find_element_by_xpath('//*[@id=\"BI_loadReview2_right\"]')\n",
    "try:\n",
    "    ActionChains(driver).move_to_element(right_button).click().perform()\n",
    "except InvalidSelectorException:\n",
    "    print('why??')"
   ]
  },
  {
   "cell_type": "code",
   "execution_count": 104,
   "metadata": {
    "collapsed": false
   },
   "outputs": [
    {
     "data": {
      "text/plain": [
       "True"
      ]
     },
     "execution_count": 104,
     "metadata": {},
     "output_type": "execute_result"
    }
   ],
   "source": []
  },
  {
   "cell_type": "code",
   "execution_count": 147,
   "metadata": {
    "collapsed": false
   },
   "outputs": [
    {
     "name": "stdout",
     "output_type": "stream",
     "text": [
      "why not\n"
     ]
    }
   ],
   "source": [
    "\n",
    "try:\n",
    "    content = driver.find_element_by_class_name('modalContents')\n",
    "    innerHTML = driver.execute_script(\"return document.text.innerHTML\") #returns the inner HTML as a string\n",
    "    \n",
    "#     review = driver.find_element_by_css_selector('#reviews > div:nth-child(7) > article > div.stars-and-date-container > div.rating-stars')\n",
    "#     rater = driver.find_element_by_class_name('ng-binding')\n",
    "#     rating = driver.find_element_by_class_name('rating')\n",
    "#     review = driver.find_element_by_class_name('ReviewText ng-binding')\n",
    "#     print (rater.text, rating.text, review.text)\n",
    "except (NoSuchElementException, TimeoutException):\n",
    "    print('why not')"
   ]
  },
  {
   "cell_type": "code",
   "execution_count": 25,
   "metadata": {
    "collapsed": false
   },
   "outputs": [],
   "source": [
    "soup2 = BeautifulSoup(driver.page_source, 'html.parser')"
   ]
  },
  {
   "cell_type": "code",
   "execution_count": 26,
   "metadata": {
    "collapsed": true
   },
   "outputs": [],
   "source": [
    "driver.quit()"
   ]
  },
  {
   "cell_type": "code",
   "execution_count": 27,
   "metadata": {
    "collapsed": true
   },
   "outputs": [],
   "source": [
    "title2 = soup2.find('h1', attrs={'itemprop':'name'}).text"
   ]
  },
  {
   "cell_type": "code",
   "execution_count": 28,
   "metadata": {
    "collapsed": false
   },
   "outputs": [
    {
     "data": {
      "text/plain": [
       "'Red Skinned Potato Salad'"
      ]
     },
     "execution_count": 28,
     "metadata": {},
     "output_type": "execute_result"
    }
   ],
   "source": [
    "title2"
   ]
  },
  {
   "cell_type": "code",
   "execution_count": 29,
   "metadata": {
    "collapsed": true
   },
   "outputs": [],
   "source": [
    "reviews2 = soup2.find_all('div', attrs={'itemprop': 'review'})"
   ]
  },
  {
   "cell_type": "code",
   "execution_count": null,
   "metadata": {
    "collapsed": true
   },
   "outputs": [],
   "source": [
    "for review in reviews2:\n",
    "    review.find_all()"
   ]
  },
  {
   "cell_type": "code",
   "execution_count": null,
   "metadata": {
    "collapsed": true
   },
   "outputs": [],
   "source": []
  },
  {
   "cell_type": "code",
   "execution_count": null,
   "metadata": {
    "collapsed": true
   },
   "outputs": [],
   "source": []
  },
  {
   "cell_type": "code",
   "execution_count": 2,
   "metadata": {
    "collapsed": true
   },
   "outputs": [],
   "source": [
    "r = requests.get(\"http://allrecipes.com/recipe/17926/golden-pork-chops\")"
   ]
  },
  {
   "cell_type": "code",
   "execution_count": 3,
   "metadata": {
    "collapsed": true
   },
   "outputs": [],
   "source": [
    "soup = BeautifulSoup(r.content, 'html.parser')"
   ]
  },
  {
   "cell_type": "code",
   "execution_count": 4,
   "metadata": {
    "collapsed": true
   },
   "outputs": [],
   "source": [
    "title = soup.find('h1', attrs={'itemprop':'name'}).text"
   ]
  },
  {
   "cell_type": "code",
   "execution_count": 11,
   "metadata": {
    "collapsed": false
   },
   "outputs": [],
   "source": [
    "reviews = soup.find_all('div', attrs={'itemprop': 'review'})"
   ]
  },
  {
   "cell_type": "code",
   "execution_count": 12,
   "metadata": {
    "collapsed": false
   },
   "outputs": [
    {
     "name": "stdout",
     "output_type": "stream",
     "text": [
      "<div class=\"review-container clearfix\" itemprop=\"review\" itemscope=\"\" itemtype=\"http://schema.org/Review\">\n",
      "<meta id=\"metaRecipeTitle\" itemprop=\"itemReviewed\">\n",
      "<span class=\"helpful-header\">Most helpful positive review</span>\n",
      "<article class=\"reviewer-info imadeit-enabled\">\n",
      "<div class=\"recipe-details-cook-stats-container\">\n",
      "<a href=\"/cook/1739299/\">\n",
      "<ul class=\"cook-details\">\n",
      "<li>\n",
      "<img alt=\"\" class=\"img-profile elevate-cook-thumbnail\" data-lazy-load=\"\" data-original-src=\"http://images.media-allrecipes.com/userphotos/90x90/03/96/03/3960351.jpg\" src=\"http://images.media-allrecipes.com/ar/spacer.gif\" style=\"display: inline;\" title=\"\"/>\n",
      "</li>\n",
      "<li class=\"cook-info\">\n",
      "<h4 itemprop=\"author\">  Christi Schrader \n",
      "                         </h4>\n",
      "<ul class=\"cook-details__followers followers-count\">\n",
      "<li>\n",
      "<span class=\"icon--cook-card-follower\" title=\"Followers\"></span>\n",
      "</li>\n",
      "<li>\n",
      "<span><format-large-number number=\"3\"></format-large-number></span>\n",
      "</li>\n",
      "</ul>\n",
      "<ul class=\"cook-details__favorites favorites-count\">\n",
      "<li>\n",
      "<span class=\"icon--cook-card-favorite\" title=\"Favorites\"></span>\n",
      "</li>\n",
      "<li>\n",
      "<span><format-large-number number=\"85\"></format-large-number></span>\n",
      "</li>\n",
      "</ul>\n",
      "<ul class=\"cook-details__recipes-made recipes-made-count\">\n",
      "<li>\n",
      "<span class=\"icon--cook-card-made\" title=\"Recipes Made\"></span>\n",
      "</li>\n",
      "<li>\n",
      "<span><format-large-number number=\"38\"></format-large-number></span>\n",
      "</li>\n",
      "</ul>\n",
      "</li>\n",
      "</ul>\n",
      "</a>\n",
      "</div>\n",
      "<div class=\"stars-and-date-container\">\n",
      "<div class=\"rating-stars\" data-ratingstars=\"5\" data-scroll-to-anchor=\"reviews\">\n",
      "<img height=\"14\" src=\"http://images.media-allrecipes.com/ar-images/icons/rating-stars/full-star-2015.svg\" width=\"14\"/>\n",
      "<img height=\"14\" src=\"http://images.media-allrecipes.com/ar-images/icons/rating-stars/full-star-2015.svg\" width=\"14\"/>\n",
      "<img height=\"14\" src=\"http://images.media-allrecipes.com/ar-images/icons/rating-stars/full-star-2015.svg\" width=\"14\"/>\n",
      "<img height=\"14\" src=\"http://images.media-allrecipes.com/ar-images/icons/rating-stars/full-star-2015.svg\" width=\"14\"/>\n",
      "<img height=\"14\" src=\"http://images.media-allrecipes.com/ar-images/icons/rating-stars/full-star-2015.svg\" width=\"14\"/>\n",
      "</div>\n",
      "<div itemprop=\"reviewRating\" itemscope=\"\" itemtype=\"http://schema.org/Rating\">\n",
      "<meta content=\"5\" itemprop=\"ratingValue\"/>\n",
      "</div>\n",
      "<div class=\"review-date\">12/11/2006</div>\n",
      "<meta content=\"2006-12-11\" itemprop=\"dateCreated\"/>\n",
      "</div>\n",
      "</article>\n",
      "<p itemprop=\"reviewBody\">\n",
      "This was pretty good. Everyone in my family really liked it. I hate it when people make a million changes in a review but.... I did saute the onion, (canned) mushrooms and about a tablespoon of ...\n",
      "        </p>\n",
      "<div class=\"review-detail\">\n",
      "<a class=\"review-detail__link\" href=\"reviews/853914/\" ng-click=\"$event.preventDefault();reviewModalDialog(1, sortBy)\">\n",
      "<span class=\"icon--expand-icon\"></span>\n",
      "<span>Read more</span>\n",
      "</a>\n",
      "</div>\n",
      "</meta></div>\n",
      "<div class=\"review-container clearfix\" itemprop=\"review\" itemscope=\"\" itemtype=\"http://schema.org/Review\">\n",
      "<meta id=\"metaRecipeTitle\" itemprop=\"itemReviewed\">\n",
      "<span class=\"helpful-header\">Most helpful critical review</span>\n",
      "<article class=\"reviewer-info imadeit-enabled\">\n",
      "<div class=\"recipe-details-cook-stats-container\">\n",
      "<a href=\"/cook/51668/\">\n",
      "<ul class=\"cook-details\">\n",
      "<li>\n",
      "<img alt=\"\" class=\"img-profile elevate-cook-thumbnail\" data-lazy-load=\"\" data-original-src=\"http://images.media-allrecipes.com/mobile/allrecipes/images/icon-user-default_v2.png\" src=\"http://images.media-allrecipes.com/ar/spacer.gif\" style=\"display: inline;\" title=\"\"/>\n",
      "</li>\n",
      "<li class=\"cook-info\">\n",
      "<h4 itemprop=\"author\">  Toni \n",
      "                         </h4>\n",
      "<ul class=\"cook-details__followers followers-count\">\n",
      "<li>\n",
      "<span class=\"icon--cook-card-follower\" title=\"Followers\"></span>\n",
      "</li>\n",
      "<li>\n",
      "<span><format-large-number number=\"2\"></format-large-number></span>\n",
      "</li>\n",
      "</ul>\n",
      "<ul class=\"cook-details__favorites favorites-count\">\n",
      "<li>\n",
      "<span class=\"icon--cook-card-favorite\" title=\"Favorites\"></span>\n",
      "</li>\n",
      "<li>\n",
      "<span><format-large-number number=\"0\"></format-large-number></span>\n",
      "</li>\n",
      "</ul>\n",
      "<ul class=\"cook-details__recipes-made recipes-made-count\">\n",
      "<li>\n",
      "<span class=\"icon--cook-card-made\" title=\"Recipes Made\"></span>\n",
      "</li>\n",
      "<li>\n",
      "<span><format-large-number number=\"13\"></format-large-number></span>\n",
      "</li>\n",
      "</ul>\n",
      "</li>\n",
      "</ul>\n",
      "</a>\n",
      "</div>\n",
      "<div class=\"stars-and-date-container\">\n",
      "<div class=\"rating-stars\" data-ratingstars=\"1\" data-scroll-to-anchor=\"reviews\">\n",
      "<img height=\"14\" src=\"http://images.media-allrecipes.com/ar-images/icons/rating-stars/full-star-2015.svg\" width=\"14\"/>\n",
      "<img height=\"14\" src=\"http://images.media-allrecipes.com/ar-images/icons/rating-stars/empty-star.svg\" width=\"14\"/>\n",
      "<img height=\"14\" src=\"http://images.media-allrecipes.com/ar-images/icons/rating-stars/empty-star.svg\" width=\"14\"/>\n",
      "<img height=\"14\" src=\"http://images.media-allrecipes.com/ar-images/icons/rating-stars/empty-star.svg\" width=\"14\"/>\n",
      "<img height=\"14\" src=\"http://images.media-allrecipes.com/ar-images/icons/rating-stars/empty-star.svg\" width=\"14\"/>\n",
      "</div>\n",
      "<div itemprop=\"reviewRating\" itemscope=\"\" itemtype=\"http://schema.org/Rating\">\n",
      "<meta content=\"1\" itemprop=\"ratingValue\"/>\n",
      "</div>\n",
      "<div class=\"review-date\">5/24/2000</div>\n",
      "<meta content=\"2000-05-24\" itemprop=\"dateCreated\"/>\n",
      "</div>\n",
      "</article>\n",
      "<p itemprop=\"reviewBody\">\n",
      "We did not care for this recipe at all. I make a similar recipe that is excellent. I season and brown the pork chops in a frypan. Drain grease, add 2 cans golden mushroom soup and simmer on low ...\n",
      "        </p>\n",
      "<div class=\"review-detail\">\n",
      "<a class=\"review-detail__link\" href=\"reviews/6413/\" ng-click=\"$event.preventDefault();reviewModalDialog(0, sortBy)\">\n",
      "<span class=\"icon--expand-icon\"></span>\n",
      "<span>Read more</span>\n",
      "</a>\n",
      "</div>\n",
      "</meta></div>\n",
      "<div class=\"review-container clearfix\" itemprop=\"review\" itemscope=\"\" itemtype=\"http://schema.org/Review\">\n",
      "<meta id=\"metaRecipeTitle\" itemprop=\"itemReviewed\">\n",
      "<article class=\"reviewer-info imadeit-enabled\">\n",
      "<div class=\"recipe-details-cook-stats-container\">\n",
      "<a href=\"/cook/51668/\">\n",
      "<ul class=\"cook-details\">\n",
      "<li>\n",
      "<img alt=\"\" class=\"img-profile elevate-cook-thumbnail\" data-lazy-load=\"\" data-original-src=\"http://images.media-allrecipes.com/mobile/allrecipes/images/icon-user-default_v2.png\" src=\"http://images.media-allrecipes.com/ar/spacer.gif\" style=\"display: inline;\" title=\"\"/>\n",
      "</li>\n",
      "<li class=\"cook-info\">\n",
      "<h4 itemprop=\"author\">  Toni \n",
      "                         </h4>\n",
      "<ul class=\"cook-details__followers followers-count\">\n",
      "<li>\n",
      "<span class=\"icon--cook-card-follower\" title=\"Followers\"></span>\n",
      "</li>\n",
      "<li>\n",
      "<span><format-large-number number=\"2\"></format-large-number></span>\n",
      "</li>\n",
      "</ul>\n",
      "<ul class=\"cook-details__favorites favorites-count\">\n",
      "<li>\n",
      "<span class=\"icon--cook-card-favorite\" title=\"Favorites\"></span>\n",
      "</li>\n",
      "<li>\n",
      "<span><format-large-number number=\"0\"></format-large-number></span>\n",
      "</li>\n",
      "</ul>\n",
      "<ul class=\"cook-details__recipes-made recipes-made-count\">\n",
      "<li>\n",
      "<span class=\"icon--cook-card-made\" title=\"Recipes Made\"></span>\n",
      "</li>\n",
      "<li>\n",
      "<span><format-large-number number=\"13\"></format-large-number></span>\n",
      "</li>\n",
      "</ul>\n",
      "</li>\n",
      "</ul>\n",
      "</a>\n",
      "</div>\n",
      "<div class=\"stars-and-date-container\">\n",
      "<div class=\"rating-stars\" data-ratingstars=\"1\" data-scroll-to-anchor=\"reviews\">\n",
      "<img height=\"14\" src=\"http://images.media-allrecipes.com/ar-images/icons/rating-stars/full-star-2015.svg\" width=\"14\"/>\n",
      "<img height=\"14\" src=\"http://images.media-allrecipes.com/ar-images/icons/rating-stars/empty-star.svg\" width=\"14\"/>\n",
      "<img height=\"14\" src=\"http://images.media-allrecipes.com/ar-images/icons/rating-stars/empty-star.svg\" width=\"14\"/>\n",
      "<img height=\"14\" src=\"http://images.media-allrecipes.com/ar-images/icons/rating-stars/empty-star.svg\" width=\"14\"/>\n",
      "<img height=\"14\" src=\"http://images.media-allrecipes.com/ar-images/icons/rating-stars/empty-star.svg\" width=\"14\"/>\n",
      "</div>\n",
      "<div itemprop=\"reviewRating\" itemscope=\"\" itemtype=\"http://schema.org/Rating\">\n",
      "<meta content=\"1\" itemprop=\"ratingValue\"/>\n",
      "</div>\n",
      "<div class=\"review-date\">5/24/2000</div>\n",
      "<meta content=\"2000-05-24\" itemprop=\"dateCreated\"/>\n",
      "</div>\n",
      "</article>\n",
      "<p itemprop=\"reviewBody\">\n",
      "We did not care for this recipe at all. I make a similar recipe that is excellent. I season and brown the pork chops in a frypan. Drain grease, add 2 cans golden mushroom soup and simmer on low ...\n",
      "        </p>\n",
      "<div class=\"review-detail\">\n",
      "<a class=\"review-detail__link\" href=\"reviews/6413/\" ng-click=\"$event.preventDefault();reviewModalDialog(0, sortBy)\">\n",
      "<span class=\"icon--expand-icon\"></span>\n",
      "<span>Read more</span>\n",
      "</a>\n",
      "</div>\n",
      "</meta></div>\n",
      "<div class=\"review-container clearfix\" itemprop=\"review\" itemscope=\"\" itemtype=\"http://schema.org/Review\">\n",
      "<meta id=\"metaRecipeTitle\" itemprop=\"itemReviewed\">\n",
      "<article class=\"reviewer-info imadeit-enabled\">\n",
      "<div class=\"recipe-details-cook-stats-container\">\n",
      "<a href=\"/cook/1739299/\">\n",
      "<ul class=\"cook-details\">\n",
      "<li>\n",
      "<img alt=\"\" class=\"img-profile elevate-cook-thumbnail\" data-lazy-load=\"\" data-original-src=\"http://images.media-allrecipes.com/userphotos/90x90/03/96/03/3960351.jpg\" src=\"http://images.media-allrecipes.com/ar/spacer.gif\" style=\"display: inline;\" title=\"\"/>\n",
      "</li>\n",
      "<li class=\"cook-info\">\n",
      "<h4 itemprop=\"author\">  Christi Schrader \n",
      "                         </h4>\n",
      "<ul class=\"cook-details__followers followers-count\">\n",
      "<li>\n",
      "<span class=\"icon--cook-card-follower\" title=\"Followers\"></span>\n",
      "</li>\n",
      "<li>\n",
      "<span><format-large-number number=\"3\"></format-large-number></span>\n",
      "</li>\n",
      "</ul>\n",
      "<ul class=\"cook-details__favorites favorites-count\">\n",
      "<li>\n",
      "<span class=\"icon--cook-card-favorite\" title=\"Favorites\"></span>\n",
      "</li>\n",
      "<li>\n",
      "<span><format-large-number number=\"85\"></format-large-number></span>\n",
      "</li>\n",
      "</ul>\n",
      "<ul class=\"cook-details__recipes-made recipes-made-count\">\n",
      "<li>\n",
      "<span class=\"icon--cook-card-made\" title=\"Recipes Made\"></span>\n",
      "</li>\n",
      "<li>\n",
      "<span><format-large-number number=\"38\"></format-large-number></span>\n",
      "</li>\n",
      "</ul>\n",
      "</li>\n",
      "</ul>\n",
      "</a>\n",
      "</div>\n",
      "<div class=\"stars-and-date-container\">\n",
      "<div class=\"rating-stars\" data-ratingstars=\"5\" data-scroll-to-anchor=\"reviews\">\n",
      "<img height=\"14\" src=\"http://images.media-allrecipes.com/ar-images/icons/rating-stars/full-star-2015.svg\" width=\"14\"/>\n",
      "<img height=\"14\" src=\"http://images.media-allrecipes.com/ar-images/icons/rating-stars/full-star-2015.svg\" width=\"14\"/>\n",
      "<img height=\"14\" src=\"http://images.media-allrecipes.com/ar-images/icons/rating-stars/full-star-2015.svg\" width=\"14\"/>\n",
      "<img height=\"14\" src=\"http://images.media-allrecipes.com/ar-images/icons/rating-stars/full-star-2015.svg\" width=\"14\"/>\n",
      "<img height=\"14\" src=\"http://images.media-allrecipes.com/ar-images/icons/rating-stars/full-star-2015.svg\" width=\"14\"/>\n",
      "</div>\n",
      "<div itemprop=\"reviewRating\" itemscope=\"\" itemtype=\"http://schema.org/Rating\">\n",
      "<meta content=\"5\" itemprop=\"ratingValue\"/>\n",
      "</div>\n",
      "<div class=\"review-date\">12/11/2006</div>\n",
      "<meta content=\"2006-12-11\" itemprop=\"dateCreated\"/>\n",
      "</div>\n",
      "</article>\n",
      "<p itemprop=\"reviewBody\">\n",
      "This was pretty good. Everyone in my family really liked it. I hate it when people make a million changes in a review but.... I did saute the onion, (canned) mushrooms and about a tablespoon of ...\n",
      "        </p>\n",
      "<div class=\"review-detail\">\n",
      "<a class=\"review-detail__link\" href=\"reviews/853914/\" ng-click=\"$event.preventDefault();reviewModalDialog(1, sortBy)\">\n",
      "<span class=\"icon--expand-icon\"></span>\n",
      "<span>Read more</span>\n",
      "</a>\n",
      "</div>\n",
      "</meta></div>\n",
      "<div class=\"review-container clearfix\" itemprop=\"review\" itemscope=\"\" itemtype=\"http://schema.org/Review\">\n",
      "<meta id=\"metaRecipeTitle\" itemprop=\"itemReviewed\">\n",
      "<article class=\"reviewer-info imadeit-enabled\">\n",
      "<div class=\"recipe-details-cook-stats-container\">\n",
      "<a href=\"/cook/2539363/\">\n",
      "<ul class=\"cook-details\">\n",
      "<li>\n",
      "<img alt=\"\" class=\"img-profile elevate-cook-thumbnail\" data-lazy-load=\"\" data-original-src=\"http://images.media-allrecipes.com/userphotos/90x90/03/05/77/3057737.jpg\" src=\"http://images.media-allrecipes.com/ar/spacer.gif\" style=\"display: inline;\" title=\"\"/>\n",
      "</li>\n",
      "<li class=\"cook-info\">\n",
      "<h4 itemprop=\"author\">  Nikki Taylor \n",
      "                         </h4>\n",
      "<ul class=\"cook-details__followers followers-count\">\n",
      "<li>\n",
      "<span class=\"icon--cook-card-follower\" title=\"Followers\"></span>\n",
      "</li>\n",
      "<li>\n",
      "<span><format-large-number number=\"3\"></format-large-number></span>\n",
      "</li>\n",
      "</ul>\n",
      "<ul class=\"cook-details__favorites favorites-count\">\n",
      "<li>\n",
      "<span class=\"icon--cook-card-favorite\" title=\"Favorites\"></span>\n",
      "</li>\n",
      "<li>\n",
      "<span><format-large-number number=\"103\"></format-large-number></span>\n",
      "</li>\n",
      "</ul>\n",
      "<ul class=\"cook-details__recipes-made recipes-made-count\">\n",
      "<li>\n",
      "<span class=\"icon--cook-card-made\" title=\"Recipes Made\"></span>\n",
      "</li>\n",
      "<li>\n",
      "<span><format-large-number number=\"10\"></format-large-number></span>\n",
      "</li>\n",
      "</ul>\n",
      "</li>\n",
      "</ul>\n",
      "</a>\n",
      "</div>\n",
      "<div class=\"stars-and-date-container\">\n",
      "<div class=\"rating-stars\" data-ratingstars=\"5\" data-scroll-to-anchor=\"reviews\">\n",
      "<img height=\"14\" src=\"http://images.media-allrecipes.com/ar-images/icons/rating-stars/full-star-2015.svg\" width=\"14\"/>\n",
      "<img height=\"14\" src=\"http://images.media-allrecipes.com/ar-images/icons/rating-stars/full-star-2015.svg\" width=\"14\"/>\n",
      "<img height=\"14\" src=\"http://images.media-allrecipes.com/ar-images/icons/rating-stars/full-star-2015.svg\" width=\"14\"/>\n",
      "<img height=\"14\" src=\"http://images.media-allrecipes.com/ar-images/icons/rating-stars/full-star-2015.svg\" width=\"14\"/>\n",
      "<img height=\"14\" src=\"http://images.media-allrecipes.com/ar-images/icons/rating-stars/full-star-2015.svg\" width=\"14\"/>\n",
      "</div>\n",
      "<div itemprop=\"reviewRating\" itemscope=\"\" itemtype=\"http://schema.org/Rating\">\n",
      "<meta content=\"5\" itemprop=\"ratingValue\"/>\n",
      "</div>\n",
      "<div class=\"review-date\">11/27/2007</div>\n",
      "<meta content=\"2007-11-27\" itemprop=\"dateCreated\"/>\n",
      "</div>\n",
      "</article>\n",
      "<p itemprop=\"reviewBody\">\n",
      "OMG!!! I made this last night, and my boyfriend LOVED it.  I did do like the others and brown the pork chops in a TBSP of butter, 1/4 cup of onions and TBSP of garlic.  I after letting them bake...\n",
      "        </p>\n",
      "<div class=\"review-detail\">\n",
      "<a class=\"review-detail__link\" href=\"reviews/1166847/\" ng-click=\"$event.preventDefault();reviewModalDialog(2, sortBy)\">\n",
      "<span class=\"icon--expand-icon\"></span>\n",
      "<span>Read more</span>\n",
      "</a>\n",
      "</div>\n",
      "</meta></div>\n",
      "<div class=\"review-container clearfix\" itemprop=\"review\" itemscope=\"\" itemtype=\"http://schema.org/Review\">\n",
      "<meta id=\"metaRecipeTitle\" itemprop=\"itemReviewed\">\n",
      "<article class=\"reviewer-info imadeit-enabled\">\n",
      "<div class=\"recipe-details-cook-stats-container\">\n",
      "<a href=\"/cook/2028368/\">\n",
      "<ul class=\"cook-details\">\n",
      "<li>\n",
      "<img alt=\"\" class=\"img-profile elevate-cook-thumbnail\" data-lazy-load=\"\" data-original-src=\"http://images.media-allrecipes.com/mobile/allrecipes/images/icon-user-default_v2.png\" src=\"http://images.media-allrecipes.com/ar/spacer.gif\" style=\"display: inline;\" title=\"\"/>\n",
      "</li>\n",
      "<li class=\"cook-info\">\n",
      "<h4 itemprop=\"author\">  Becca \n",
      "                         </h4>\n",
      "<ul class=\"cook-details__followers followers-count\">\n",
      "<li>\n",
      "<span class=\"icon--cook-card-follower\" title=\"Followers\"></span>\n",
      "</li>\n",
      "<li>\n",
      "<span><format-large-number number=\"0\"></format-large-number></span>\n",
      "</li>\n",
      "</ul>\n",
      "<ul class=\"cook-details__favorites favorites-count\">\n",
      "<li>\n",
      "<span class=\"icon--cook-card-favorite\" title=\"Favorites\"></span>\n",
      "</li>\n",
      "<li>\n",
      "<span><format-large-number number=\"117\"></format-large-number></span>\n",
      "</li>\n",
      "</ul>\n",
      "<ul class=\"cook-details__recipes-made recipes-made-count\">\n",
      "<li>\n",
      "<span class=\"icon--cook-card-made\" title=\"Recipes Made\"></span>\n",
      "</li>\n",
      "<li>\n",
      "<span><format-large-number number=\"14\"></format-large-number></span>\n",
      "</li>\n",
      "</ul>\n",
      "</li>\n",
      "</ul>\n",
      "</a>\n",
      "</div>\n",
      "<div class=\"stars-and-date-container\">\n",
      "<div class=\"rating-stars\" data-ratingstars=\"5\" data-scroll-to-anchor=\"reviews\">\n",
      "<img height=\"14\" src=\"http://images.media-allrecipes.com/ar-images/icons/rating-stars/full-star-2015.svg\" width=\"14\"/>\n",
      "<img height=\"14\" src=\"http://images.media-allrecipes.com/ar-images/icons/rating-stars/full-star-2015.svg\" width=\"14\"/>\n",
      "<img height=\"14\" src=\"http://images.media-allrecipes.com/ar-images/icons/rating-stars/full-star-2015.svg\" width=\"14\"/>\n",
      "<img height=\"14\" src=\"http://images.media-allrecipes.com/ar-images/icons/rating-stars/full-star-2015.svg\" width=\"14\"/>\n",
      "<img height=\"14\" src=\"http://images.media-allrecipes.com/ar-images/icons/rating-stars/full-star-2015.svg\" width=\"14\"/>\n",
      "</div>\n",
      "<div itemprop=\"reviewRating\" itemscope=\"\" itemtype=\"http://schema.org/Rating\">\n",
      "<meta content=\"5\" itemprop=\"ratingValue\"/>\n",
      "</div>\n",
      "<div class=\"review-date\">8/15/2006</div>\n",
      "<meta content=\"2006-08-15\" itemprop=\"dateCreated\"/>\n",
      "</div>\n",
      "</article>\n",
      "<p itemprop=\"reviewBody\">\n",
      "This is a great starter recipe. I took some of his ideas and some of mine and kind of mingled them together. First I decided to brown my meat (6 chops) in the skillet w/ some garlic,pepper, and ...\n",
      "        </p>\n",
      "<div class=\"review-detail\">\n",
      "<a class=\"review-detail__link\" href=\"reviews/762294/\" ng-click=\"$event.preventDefault();reviewModalDialog(3, sortBy)\">\n",
      "<span class=\"icon--expand-icon\"></span>\n",
      "<span>Read more</span>\n",
      "</a>\n",
      "</div>\n",
      "</meta></div>\n",
      "<div class=\"review-container clearfix\" itemprop=\"review\" itemscope=\"\" itemtype=\"http://schema.org/Review\">\n",
      "<meta id=\"metaRecipeTitle\" itemprop=\"itemReviewed\">\n",
      "<article class=\"reviewer-info imadeit-enabled\">\n",
      "<div class=\"recipe-details-cook-stats-container\">\n",
      "<a href=\"/cook/domesticgoddess/\">\n",
      "<ul class=\"cook-details\">\n",
      "<li>\n",
      "<img alt=\"\" class=\"img-profile elevate-cook-thumbnail\" data-lazy-load=\"\" data-original-src=\"http://images.media-allrecipes.com/userphotos/90x90/00/62/32/623213.jpg\" src=\"http://images.media-allrecipes.com/ar/spacer.gif\" style=\"display: inline;\" title=\"\"/>\n",
      "</li>\n",
      "<li class=\"cook-info\">\n",
      "<h4 itemprop=\"author\">  Muffin Mom N Garlic Girl \n",
      "                         </h4>\n",
      "<ul class=\"cook-details__followers followers-count\">\n",
      "<li>\n",
      "<span class=\"icon--cook-card-follower\" title=\"Followers\"></span>\n",
      "</li>\n",
      "<li>\n",
      "<span><format-large-number number=\"230\"></format-large-number></span>\n",
      "</li>\n",
      "</ul>\n",
      "<ul class=\"cook-details__favorites favorites-count\">\n",
      "<li>\n",
      "<span class=\"icon--cook-card-favorite\" title=\"Favorites\"></span>\n",
      "</li>\n",
      "<li>\n",
      "<span><format-large-number number=\"551\"></format-large-number></span>\n",
      "</li>\n",
      "</ul>\n",
      "<ul class=\"cook-details__recipes-made recipes-made-count\">\n",
      "<li>\n",
      "<span class=\"icon--cook-card-made\" title=\"Recipes Made\"></span>\n",
      "</li>\n",
      "<li>\n",
      "<span><format-large-number number=\"374\"></format-large-number></span>\n",
      "</li>\n",
      "</ul>\n",
      "</li>\n",
      "</ul>\n",
      "</a>\n",
      "</div>\n",
      "<div class=\"stars-and-date-container\">\n",
      "<div class=\"rating-stars\" data-ratingstars=\"5\" data-scroll-to-anchor=\"reviews\">\n",
      "<img height=\"14\" src=\"http://images.media-allrecipes.com/ar-images/icons/rating-stars/full-star-2015.svg\" width=\"14\"/>\n",
      "<img height=\"14\" src=\"http://images.media-allrecipes.com/ar-images/icons/rating-stars/full-star-2015.svg\" width=\"14\"/>\n",
      "<img height=\"14\" src=\"http://images.media-allrecipes.com/ar-images/icons/rating-stars/full-star-2015.svg\" width=\"14\"/>\n",
      "<img height=\"14\" src=\"http://images.media-allrecipes.com/ar-images/icons/rating-stars/full-star-2015.svg\" width=\"14\"/>\n",
      "<img height=\"14\" src=\"http://images.media-allrecipes.com/ar-images/icons/rating-stars/full-star-2015.svg\" width=\"14\"/>\n",
      "</div>\n",
      "<div itemprop=\"reviewRating\" itemscope=\"\" itemtype=\"http://schema.org/Rating\">\n",
      "<meta content=\"5\" itemprop=\"ratingValue\"/>\n",
      "</div>\n",
      "<div class=\"review-date\">10/29/2007</div>\n",
      "<meta content=\"2007-10-29\" itemprop=\"dateCreated\"/>\n",
      "</div>\n",
      "</article>\n",
      "<p itemprop=\"reviewBody\">\n",
      "These looked terrible coming out of the oven. My husband made a face and said what is that??? But after he bit into one he was sold, even my 7 &amp; 1 year old loved them. I was asked to make this a...\n",
      "        </p>\n",
      "<div class=\"review-detail\">\n",
      "<a class=\"review-detail__link\" href=\"reviews/1129810/\" ng-click=\"$event.preventDefault();reviewModalDialog(4, sortBy)\">\n",
      "<span class=\"icon--expand-icon\"></span>\n",
      "<span>Read more</span>\n",
      "</a>\n",
      "</div>\n",
      "</meta></div>\n",
      "<div class=\"review-container clearfix\" itemprop=\"review\" itemscope=\"\" itemtype=\"http://schema.org/Review\">\n",
      "<meta id=\"metaRecipeTitle\" itemprop=\"itemReviewed\">\n",
      "<article class=\"reviewer-info imadeit-enabled\">\n",
      "<div class=\"recipe-details-cook-stats-container\">\n",
      "<a href=\"/cook/732010/\">\n",
      "<ul class=\"cook-details\">\n",
      "<li>\n",
      "<img alt=\"\" class=\"img-profile elevate-cook-thumbnail\" data-lazy-load=\"\" data-original-src=\"http://images.media-allrecipes.com/mobile/allrecipes/images/icon-user-default_v2.png\" src=\"http://images.media-allrecipes.com/ar/spacer.gif\" style=\"display: inline;\" title=\"\"/>\n",
      "</li>\n",
      "<li class=\"cook-info\">\n",
      "<h4 itemprop=\"author\">  UNDERFIRECHICK \n",
      "                         </h4>\n",
      "<ul class=\"cook-details__followers followers-count\">\n",
      "<li>\n",
      "<span class=\"icon--cook-card-follower\" title=\"Followers\"></span>\n",
      "</li>\n",
      "<li>\n",
      "<span><format-large-number number=\"0\"></format-large-number></span>\n",
      "</li>\n",
      "</ul>\n",
      "<ul class=\"cook-details__favorites favorites-count\">\n",
      "<li>\n",
      "<span class=\"icon--cook-card-favorite\" title=\"Favorites\"></span>\n",
      "</li>\n",
      "<li>\n",
      "<span><format-large-number number=\"0\"></format-large-number></span>\n",
      "</li>\n",
      "</ul>\n",
      "<ul class=\"cook-details__recipes-made recipes-made-count\">\n",
      "<li>\n",
      "<span class=\"icon--cook-card-made\" title=\"Recipes Made\"></span>\n",
      "</li>\n",
      "<li>\n",
      "<span><format-large-number number=\"2\"></format-large-number></span>\n",
      "</li>\n",
      "</ul>\n",
      "</li>\n",
      "</ul>\n",
      "</a>\n",
      "</div>\n",
      "<div class=\"stars-and-date-container\">\n",
      "<div class=\"rating-stars\" data-ratingstars=\"5\" data-scroll-to-anchor=\"reviews\">\n",
      "<img height=\"14\" src=\"http://images.media-allrecipes.com/ar-images/icons/rating-stars/full-star-2015.svg\" width=\"14\"/>\n",
      "<img height=\"14\" src=\"http://images.media-allrecipes.com/ar-images/icons/rating-stars/full-star-2015.svg\" width=\"14\"/>\n",
      "<img height=\"14\" src=\"http://images.media-allrecipes.com/ar-images/icons/rating-stars/full-star-2015.svg\" width=\"14\"/>\n",
      "<img height=\"14\" src=\"http://images.media-allrecipes.com/ar-images/icons/rating-stars/full-star-2015.svg\" width=\"14\"/>\n",
      "<img height=\"14\" src=\"http://images.media-allrecipes.com/ar-images/icons/rating-stars/full-star-2015.svg\" width=\"14\"/>\n",
      "</div>\n",
      "<div itemprop=\"reviewRating\" itemscope=\"\" itemtype=\"http://schema.org/Rating\">\n",
      "<meta content=\"5\" itemprop=\"ratingValue\"/>\n",
      "</div>\n",
      "<div class=\"review-date\">11/21/2002</div>\n",
      "<meta content=\"2002-11-21\" itemprop=\"dateCreated\"/>\n",
      "</div>\n",
      "</article>\n",
      "<p itemprop=\"reviewBody\">\n",
      "My husband loved these. I made some changes. I used one can of golden mushroom AND one can of cream of mushroom soup. I also sauteed the onions and sliced mushrooms as another reviewer had sugge...\n",
      "        </p>\n",
      "<div class=\"review-detail\">\n",
      "<a class=\"review-detail__link\" href=\"reviews/207644/\" ng-click=\"$event.preventDefault();reviewModalDialog(5, sortBy)\">\n",
      "<span class=\"icon--expand-icon\"></span>\n",
      "<span>Read more</span>\n",
      "</a>\n",
      "</div>\n",
      "</meta></div>\n",
      "<div class=\"review-container clearfix\" itemprop=\"review\" itemscope=\"\" itemtype=\"http://schema.org/Review\">\n",
      "<meta id=\"metaRecipeTitle\" itemprop=\"itemReviewed\">\n",
      "<article class=\"reviewer-info imadeit-enabled\">\n",
      "<div class=\"recipe-details-cook-stats-container\">\n",
      "<a href=\"/cook/2581163/\">\n",
      "<ul class=\"cook-details\">\n",
      "<li>\n",
      "<img alt=\"\" class=\"img-profile elevate-cook-thumbnail\" data-lazy-load=\"\" data-original-src=\"http://images.media-allrecipes.com/mobile/allrecipes/images/icon-user-default_v2.png\" src=\"http://images.media-allrecipes.com/ar/spacer.gif\" style=\"display: inline;\" title=\"\"/>\n",
      "</li>\n",
      "<li class=\"cook-info\">\n",
      "<h4 itemprop=\"author\">  rebeccal \n",
      "                         </h4>\n",
      "<ul class=\"cook-details__followers followers-count\">\n",
      "<li>\n",
      "<span class=\"icon--cook-card-follower\" title=\"Followers\"></span>\n",
      "</li>\n",
      "<li>\n",
      "<span><format-large-number number=\"0\"></format-large-number></span>\n",
      "</li>\n",
      "</ul>\n",
      "<ul class=\"cook-details__favorites favorites-count\">\n",
      "<li>\n",
      "<span class=\"icon--cook-card-favorite\" title=\"Favorites\"></span>\n",
      "</li>\n",
      "<li>\n",
      "<span><format-large-number number=\"167\"></format-large-number></span>\n",
      "</li>\n",
      "</ul>\n",
      "<ul class=\"cook-details__recipes-made recipes-made-count\">\n",
      "<li>\n",
      "<span class=\"icon--cook-card-made\" title=\"Recipes Made\"></span>\n",
      "</li>\n",
      "<li>\n",
      "<span><format-large-number number=\"38\"></format-large-number></span>\n",
      "</li>\n",
      "</ul>\n",
      "</li>\n",
      "</ul>\n",
      "</a>\n",
      "</div>\n",
      "<div class=\"stars-and-date-container\">\n",
      "<div class=\"rating-stars\" data-ratingstars=\"4\" data-scroll-to-anchor=\"reviews\">\n",
      "<img height=\"14\" src=\"http://images.media-allrecipes.com/ar-images/icons/rating-stars/full-star-2015.svg\" width=\"14\"/>\n",
      "<img height=\"14\" src=\"http://images.media-allrecipes.com/ar-images/icons/rating-stars/full-star-2015.svg\" width=\"14\"/>\n",
      "<img height=\"14\" src=\"http://images.media-allrecipes.com/ar-images/icons/rating-stars/full-star-2015.svg\" width=\"14\"/>\n",
      "<img height=\"14\" src=\"http://images.media-allrecipes.com/ar-images/icons/rating-stars/full-star-2015.svg\" width=\"14\"/>\n",
      "<img height=\"14\" src=\"http://images.media-allrecipes.com/ar-images/icons/rating-stars/empty-star.svg\" width=\"14\"/>\n",
      "</div>\n",
      "<div itemprop=\"reviewRating\" itemscope=\"\" itemtype=\"http://schema.org/Rating\">\n",
      "<meta content=\"4\" itemprop=\"ratingValue\"/>\n",
      "</div>\n",
      "<div class=\"review-date\">11/8/2007</div>\n",
      "<meta content=\"2007-11-08\" itemprop=\"dateCreated\"/>\n",
      "</div>\n",
      "</article>\n",
      "<p itemprop=\"reviewBody\">\n",
      "Delicious! I made this recipe along the lines of some other reviewers, first sauteing the onions and mushrooms in vegetable oil. I then set those aside and browned the pork chops in the same oil...\n",
      "        </p>\n",
      "<div class=\"review-detail\">\n",
      "<a class=\"review-detail__link\" href=\"reviews/1141580/\" ng-click=\"$event.preventDefault();reviewModalDialog(6, sortBy)\">\n",
      "<span class=\"icon--expand-icon\"></span>\n",
      "<span>Read more</span>\n",
      "</a>\n",
      "</div>\n",
      "</meta></div>\n",
      "<div class=\"review-container clearfix\" itemprop=\"review\" itemscope=\"\" itemtype=\"http://schema.org/Review\">\n",
      "<meta id=\"metaRecipeTitle\" itemprop=\"itemReviewed\">\n",
      "<article class=\"reviewer-info imadeit-enabled\">\n",
      "<div class=\"recipe-details-cook-stats-container\">\n",
      "<a href=\"/cook/2235386/\">\n",
      "<ul class=\"cook-details\">\n",
      "<li>\n",
      "<img alt=\"\" class=\"img-profile elevate-cook-thumbnail\" data-lazy-load=\"\" data-original-src=\"http://images.media-allrecipes.com/userphotos/90x90/03/97/21/3972184.jpg\" src=\"http://images.media-allrecipes.com/ar/spacer.gif\" style=\"display: inline;\" title=\"\"/>\n",
      "</li>\n",
      "<li class=\"cook-info\">\n",
      "<h4 itemprop=\"author\">  Garnet B. \n",
      "                         </h4>\n",
      "<ul class=\"cook-details__followers followers-count\">\n",
      "<li>\n",
      "<span class=\"icon--cook-card-follower\" title=\"Followers\"></span>\n",
      "</li>\n",
      "<li>\n",
      "<span><format-large-number number=\"4\"></format-large-number></span>\n",
      "</li>\n",
      "</ul>\n",
      "<ul class=\"cook-details__favorites favorites-count\">\n",
      "<li>\n",
      "<span class=\"icon--cook-card-favorite\" title=\"Favorites\"></span>\n",
      "</li>\n",
      "<li>\n",
      "<span><format-large-number number=\"380\"></format-large-number></span>\n",
      "</li>\n",
      "</ul>\n",
      "<ul class=\"cook-details__recipes-made recipes-made-count\">\n",
      "<li>\n",
      "<span class=\"icon--cook-card-made\" title=\"Recipes Made\"></span>\n",
      "</li>\n",
      "<li>\n",
      "<span><format-large-number number=\"14\"></format-large-number></span>\n",
      "</li>\n",
      "</ul>\n",
      "</li>\n",
      "</ul>\n",
      "</a>\n",
      "</div>\n",
      "<div class=\"stars-and-date-container\">\n",
      "<div class=\"rating-stars\" data-ratingstars=\"5\" data-scroll-to-anchor=\"reviews\">\n",
      "<img height=\"14\" src=\"http://images.media-allrecipes.com/ar-images/icons/rating-stars/full-star-2015.svg\" width=\"14\"/>\n",
      "<img height=\"14\" src=\"http://images.media-allrecipes.com/ar-images/icons/rating-stars/full-star-2015.svg\" width=\"14\"/>\n",
      "<img height=\"14\" src=\"http://images.media-allrecipes.com/ar-images/icons/rating-stars/full-star-2015.svg\" width=\"14\"/>\n",
      "<img height=\"14\" src=\"http://images.media-allrecipes.com/ar-images/icons/rating-stars/full-star-2015.svg\" width=\"14\"/>\n",
      "<img height=\"14\" src=\"http://images.media-allrecipes.com/ar-images/icons/rating-stars/full-star-2015.svg\" width=\"14\"/>\n",
      "</div>\n",
      "<div itemprop=\"reviewRating\" itemscope=\"\" itemtype=\"http://schema.org/Rating\">\n",
      "<meta content=\"5\" itemprop=\"ratingValue\"/>\n",
      "</div>\n",
      "<div class=\"review-date\">7/31/2007</div>\n",
      "<meta content=\"2007-07-31\" itemprop=\"dateCreated\"/>\n",
      "</div>\n",
      "</article>\n",
      "<p itemprop=\"reviewBody\">\n",
      "I love this recipe. It is a great place to start with p/chops. I have tweeked it to fit my schedule and opted to use canned srooms instead of fresh and  put it in a slow cooker/roaster on low wi...\n",
      "        </p>\n",
      "<div class=\"review-detail\">\n",
      "<a class=\"review-detail__link\" href=\"reviews/1045169/\" ng-click=\"$event.preventDefault();reviewModalDialog(7, sortBy)\">\n",
      "<span class=\"icon--expand-icon\"></span>\n",
      "<span>Read more</span>\n",
      "</a>\n",
      "</div>\n",
      "</meta></div>\n",
      "<div class=\"review-container clearfix\" itemprop=\"review\" itemscope=\"\" itemtype=\"http://schema.org/Review\">\n",
      "<meta id=\"metaRecipeTitle\" itemprop=\"itemReviewed\">\n",
      "<article class=\"reviewer-info imadeit-enabled\">\n",
      "<div class=\"recipe-details-cook-stats-container\">\n",
      "<a href=\"/cook/1755364/\">\n",
      "<ul class=\"cook-details\">\n",
      "<li>\n",
      "<img alt=\"\" class=\"img-profile elevate-cook-thumbnail\" data-lazy-load=\"\" data-original-src=\"http://images.media-allrecipes.com/userphotos/90x90/00/00/81/8120.jpg\" src=\"http://images.media-allrecipes.com/ar/spacer.gif\" style=\"display: inline;\" title=\"\"/>\n",
      "</li>\n",
      "<li class=\"cook-info\">\n",
      "<h4 itemprop=\"author\">  sam \n",
      "                         </h4>\n",
      "<ul class=\"cook-details__followers followers-count\">\n",
      "<li>\n",
      "<span class=\"icon--cook-card-follower\" title=\"Followers\"></span>\n",
      "</li>\n",
      "<li>\n",
      "<span><format-large-number number=\"0\"></format-large-number></span>\n",
      "</li>\n",
      "</ul>\n",
      "<ul class=\"cook-details__favorites favorites-count\">\n",
      "<li>\n",
      "<span class=\"icon--cook-card-favorite\" title=\"Favorites\"></span>\n",
      "</li>\n",
      "<li>\n",
      "<span><format-large-number number=\"63\"></format-large-number></span>\n",
      "</li>\n",
      "</ul>\n",
      "<ul class=\"cook-details__recipes-made recipes-made-count\">\n",
      "<li>\n",
      "<span class=\"icon--cook-card-made\" title=\"Recipes Made\"></span>\n",
      "</li>\n",
      "<li>\n",
      "<span><format-large-number number=\"8\"></format-large-number></span>\n",
      "</li>\n",
      "</ul>\n",
      "</li>\n",
      "</ul>\n",
      "</a>\n",
      "</div>\n",
      "<div class=\"stars-and-date-container\">\n",
      "<div class=\"rating-stars\" data-ratingstars=\"4\" data-scroll-to-anchor=\"reviews\">\n",
      "<img height=\"14\" src=\"http://images.media-allrecipes.com/ar-images/icons/rating-stars/full-star-2015.svg\" width=\"14\"/>\n",
      "<img height=\"14\" src=\"http://images.media-allrecipes.com/ar-images/icons/rating-stars/full-star-2015.svg\" width=\"14\"/>\n",
      "<img height=\"14\" src=\"http://images.media-allrecipes.com/ar-images/icons/rating-stars/full-star-2015.svg\" width=\"14\"/>\n",
      "<img height=\"14\" src=\"http://images.media-allrecipes.com/ar-images/icons/rating-stars/full-star-2015.svg\" width=\"14\"/>\n",
      "<img height=\"14\" src=\"http://images.media-allrecipes.com/ar-images/icons/rating-stars/empty-star.svg\" width=\"14\"/>\n",
      "</div>\n",
      "<div itemprop=\"reviewRating\" itemscope=\"\" itemtype=\"http://schema.org/Rating\">\n",
      "<meta content=\"4\" itemprop=\"ratingValue\"/>\n",
      "</div>\n",
      "<div class=\"review-date\">10/6/2007</div>\n",
      "<meta content=\"2007-10-06\" itemprop=\"dateCreated\"/>\n",
      "</div>\n",
      "</article>\n",
      "<p itemprop=\"reviewBody\">\n",
      "Simple preparation even with browning the pork chops &amp; sauteing the onions/mushrooms.  Used baby portabella mushrooms.  \n",
      "\n",
      "Added a little bit of cream (about 1 tablespoon) when finished cooking t...\n",
      "        </p>\n",
      "<div class=\"review-detail\">\n",
      "<a class=\"review-detail__link\" href=\"reviews/1103240/\" ng-click=\"$event.preventDefault();reviewModalDialog(8, sortBy)\">\n",
      "<span class=\"icon--expand-icon\"></span>\n",
      "<span>Read more</span>\n",
      "</a>\n",
      "</div>\n",
      "</meta></div>\n"
     ]
    }
   ],
   "source": [
    "for review in reviews:\n",
    "    print(review)"
   ]
  },
  {
   "cell_type": "code",
   "execution_count": 13,
   "metadata": {
    "collapsed": false
   },
   "outputs": [
    {
     "data": {
      "text/plain": [
       "11"
      ]
     },
     "execution_count": 13,
     "metadata": {},
     "output_type": "execute_result"
    }
   ],
   "source": [
    "len(reviews)"
   ]
  },
  {
   "cell_type": "code",
   "execution_count": null,
   "metadata": {
    "collapsed": true
   },
   "outputs": [],
   "source": []
  }
 ],
 "metadata": {
  "anaconda-cloud": {},
  "kernelspec": {
   "display_name": "Python [conda env:py36]",
   "language": "python",
   "name": "conda-env-py36-py"
  },
  "language_info": {
   "codemirror_mode": {
    "name": "ipython",
    "version": 3
   },
   "file_extension": ".py",
   "mimetype": "text/x-python",
   "name": "python",
   "nbconvert_exporter": "python",
   "pygments_lexer": "ipython3",
   "version": "3.6.1"
  }
 },
 "nbformat": 4,
 "nbformat_minor": 2
}
