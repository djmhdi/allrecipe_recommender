{
 "cells": [
  {
   "cell_type": "code",
   "execution_count": 1,
   "metadata": {
    "collapsed": true
   },
   "outputs": [],
   "source": [
    "import requests\n",
    "from bs4 import BeautifulSoup\n",
    "import pandas as pd\n",
    "import numpy as np\n",
    "import matplotlib.pyplot as plt\n",
    "from selenium import webdriver\n",
    "import selenium\n",
    "import time\n",
    "from selenium.webdriver.common.by import By\n",
    "from selenium.webdriver.support.ui import WebDriverWait\n",
    "from selenium.webdriver.support import expected_conditions as EC\n",
    "from selenium.common.exceptions import TimeoutException, NoSuchElementException, InvalidSelectorException, ElementNotVisibleException\n",
    "import numpy as np\n",
    "import string\n",
    "import pandas as pd\n",
    "from collections import defaultdict\n",
    "from pymongo import MongoClient\n",
    "import json\n",
    "import pickle"
   ]
  },
  {
   "cell_type": "code",
   "execution_count": 15,
   "metadata": {
    "collapsed": true
   },
   "outputs": [],
   "source": [
    "options = webdriver.ChromeOptions()\n",
    "# options.add_argument('window-size=800x841')\n",
    "# options.add_argument('headless')\n",
    "driver = webdriver.Chrome(chrome_options=options)\n",
    "# driver2 = webdriver.Chrome(chrome_options=optbrowser.switch_to_window(main_window)\n"
   ]
  },
  {
   "cell_type": "code",
   "execution_count": 16,
   "metadata": {
    "collapsed": true
   },
   "outputs": [],
   "source": [
    "weblink =\"http://allrecipes.com/recipe/221990/new-orleans-steamer\""
   ]
  },
  {
   "cell_type": "code",
   "execution_count": 17,
   "metadata": {
    "collapsed": true
   },
   "outputs": [],
   "source": [
    "driver.get(weblink)"
   ]
  },
  {
   "cell_type": "code",
   "execution_count": 5,
   "metadata": {},
   "outputs": [
    {
     "data": {
      "text/plain": [
       "'Bourbon-Glazed Ham Recipe - Allrecipes.com'"
      ]
     },
     "execution_count": 5,
     "metadata": {},
     "output_type": "execute_result"
    }
   ],
   "source": [
    "driver.title"
   ]
  },
  {
   "cell_type": "markdown",
   "metadata": {},
   "source": [
    "<div ng-click=\"getReviews()\" class=\"more-button\" data-ng-hide=\"!moreReviewsAvailable\">\n",
    "                <a class=\"moreReviews btns-one-small\">More Reviews</a>\n",
    "            </div>"
   ]
  },
  {
   "cell_type": "code",
   "execution_count": null,
   "metadata": {
    "collapsed": true
   },
   "outputs": [],
   "source": [
    "<div ng-click=\"getReviews()\" class=\"more-button ng-click-active\" data-ng-hide=\"!moreReviewsAvailable\">\n",
    "                <a class=\"moreReviews btns-one-small\">More Reviews</a>\n",
    "            </div>"
   ]
  },
  {
   "cell_type": "code",
   "execution_count": 20,
   "metadata": {
    "collapsed": true
   },
   "outputs": [],
   "source": [
    "clicker = driver.find_element_by_css_selector('#reviews > div.recipe-reviews__more-container > div.more-button')"
   ]
  },
  {
   "cell_type": "code",
   "execution_count": 35,
   "metadata": {
    "collapsed": true
   },
   "outputs": [],
   "source": [
    "for n in range(10):\n",
    "    try:\n",
    "        clicker = driver.find_element_by_css_selector('#reviews > div.recipe-reviews__more-container > div.more-button')\n",
    "        clicker.location_once_scrolled_into_view\n",
    "        clicker.click()\n",
    "    except ElementNotVisibleException:\n",
    "        break"
   ]
  },
  {
   "cell_type": "code",
   "execution_count": 259,
   "metadata": {
    "collapsed": true
   },
   "outputs": [],
   "source": [
    "recipe_name = (driver.find_element_by_class_name(\"recipe-summary__h1\")).text"
   ]
  },
  {
   "cell_type": "code",
   "execution_count": null,
   "metadata": {
    "collapsed": true
   },
   "outputs": [],
   "source": [
    "driver"
   ]
  },
  {
   "cell_type": "code",
   "execution_count": 260,
   "metadata": {},
   "outputs": [
    {
     "data": {
      "text/plain": [
       "'Oven Kalua Pork'"
      ]
     },
     "execution_count": 260,
     "metadata": {},
     "output_type": "execute_result"
    }
   ],
   "source": [
    "recipe_name"
   ]
  },
  {
   "cell_type": "code",
   "execution_count": 257,
   "metadata": {
    "collapsed": true
   },
   "outputs": [],
   "source": [
    "total_review_count = int(\"\".join(((driver.find_element_by_class_name(\"review-count\")).text).split()[0]))"
   ]
  },
  {
   "cell_type": "code",
   "execution_count": 258,
   "metadata": {},
   "outputs": [
    {
     "data": {
      "text/plain": [
       "123"
      ]
     },
     "execution_count": 258,
     "metadata": {},
     "output_type": "execute_result"
    }
   ],
   "source": [
    "total_review_count"
   ]
  },
  {
   "cell_type": "code",
   "execution_count": 88,
   "metadata": {
    "collapsed": true
   },
   "outputs": [],
   "source": [
    "reviewers = [reviewer.text for reviewer in driver.find_elements_by_class_name(\"cook-info\")]"
   ]
  },
  {
   "cell_type": "code",
   "execution_count": 6,
   "metadata": {
    "collapsed": true
   },
   "outputs": [],
   "source": [
    "html = driver.page_source\n",
    "soup = BeautifulSoup(html, 'html.parser')"
   ]
  },
  {
   "cell_type": "code",
   "execution_count": 40,
   "metadata": {
    "collapsed": true
   },
   "outputs": [],
   "source": [
    "soup = BeautifulSoup(html, 'html.parser')"
   ]
  },
  {
   "cell_type": "code",
   "execution_count": 7,
   "metadata": {
    "collapsed": true
   },
   "outputs": [],
   "source": [
    "recipe_title = \"\".join([name.text for name in soup.find_all('h1', attrs={'class':'recipe-summary__h1', 'itemprop':'name'})])"
   ]
  },
  {
   "cell_type": "code",
   "execution_count": 8,
   "metadata": {},
   "outputs": [
    {
     "data": {
      "text/plain": [
       "'Bourbon-Glazed Ham'"
      ]
     },
     "execution_count": 8,
     "metadata": {},
     "output_type": "execute_result"
    }
   ],
   "source": [
    "recipe_title"
   ]
  },
  {
   "cell_type": "code",
   "execution_count": 9,
   "metadata": {
    "collapsed": true
   },
   "outputs": [],
   "source": [
    "total_reviews = soup.find('span', attrs={'class': 'review-count'}).text"
   ]
  },
  {
   "cell_type": "code",
   "execution_count": 13,
   "metadata": {},
   "outputs": [
    {
     "data": {
      "text/plain": [
       "40"
      ]
     },
     "execution_count": 13,
     "metadata": {},
     "output_type": "execute_result"
    }
   ],
   "source": [
    "int(total_reviews.split()[0])"
   ]
  },
  {
   "cell_type": "code",
   "execution_count": 43,
   "metadata": {
    "collapsed": true
   },
   "outputs": [],
   "source": [
    "authors = [\" \".join(author.text.split()) for author in soup.find_all('h4', attrs={'itemprop': 'author'})]"
   ]
  },
  {
   "cell_type": "code",
   "execution_count": 44,
   "metadata": {},
   "outputs": [
    {
     "data": {
      "text/plain": [
       "['ERINCMULL',\n",
       " 'JENIFER13',\n",
       " 'ERINCMULL',\n",
       " 'Mark',\n",
       " 'ABIANNE',\n",
       " 'cindy',\n",
       " 'krauler',\n",
       " 'IXXXIA',\n",
       " 'JENIFER13',\n",
       " 'AcaCandy',\n",
       " 'COOKIE382',\n",
       " 'RavinSunkiller',\n",
       " 'Mary Jo Marino Rhodes',\n",
       " 'Hapygrl',\n",
       " 'Margo',\n",
       " 'Teresa Fortner',\n",
       " 'Kristinmu',\n",
       " 'sdcross',\n",
       " 'Kathy Stuart Dobson',\n",
       " 'mommie',\n",
       " 'Crystil',\n",
       " 'JessamineJohn',\n",
       " 'Michelle Dooney',\n",
       " 'QueenKey',\n",
       " '2kids4me',\n",
       " 'ahmz',\n",
       " 'Dave Turner',\n",
       " 'Amanda Chisholm',\n",
       " 'ayrlyn',\n",
       " 'Crystil',\n",
       " 'JessamineJohn',\n",
       " 'Michelle Dooney',\n",
       " 'QueenKey',\n",
       " '2kids4me',\n",
       " 'ahmz',\n",
       " 'Dave Turner',\n",
       " 'Amanda Chisholm',\n",
       " 'ayrlyn',\n",
       " 'Nathalie M']"
      ]
     },
     "execution_count": 44,
     "metadata": {},
     "output_type": "execute_result"
    }
   ],
   "source": [
    "authors"
   ]
  },
  {
   "cell_type": "code",
   "execution_count": 45,
   "metadata": {
    "collapsed": true
   },
   "outputs": [],
   "source": [
    "review_date = [str(date['content']) for date in soup.find_all('meta', attrs={'itemprop': 'dateCreated'})]"
   ]
  },
  {
   "cell_type": "code",
   "execution_count": null,
   "metadata": {
    "collapsed": true
   },
   "outputs": [],
   "source": [
    "<meta itemprop=\"dateCreated\" content=\"2004-03-23\">"
   ]
  },
  {
   "cell_type": "code",
   "execution_count": 47,
   "metadata": {},
   "outputs": [
    {
     "data": {
      "text/plain": [
       "['2008-03-26',\n",
       " '2009-01-18',\n",
       " '2008-03-26',\n",
       " '2008-12-28',\n",
       " '2008-03-23',\n",
       " '2008-03-28',\n",
       " '2010-04-10',\n",
       " '2010-11-27',\n",
       " '2009-01-18',\n",
       " '2011-02-23',\n",
       " '2011-03-07',\n",
       " '2011-01-08',\n",
       " '2011-04-26',\n",
       " '2011-10-05',\n",
       " '2011-05-12',\n",
       " '2011-04-27',\n",
       " '2011-03-08',\n",
       " '2009-04-20',\n",
       " '2013-09-17',\n",
       " '2011-12-27',\n",
       " '2011-03-09',\n",
       " '2011-03-09',\n",
       " '2010-12-26',\n",
       " '2015-01-02',\n",
       " '2012-04-17',\n",
       " '2011-03-06',\n",
       " '2011-03-06',\n",
       " '2013-12-25',\n",
       " '2013-10-06',\n",
       " '2011-03-09',\n",
       " '2011-03-09',\n",
       " '2010-12-26',\n",
       " '2015-01-02',\n",
       " '2012-04-17',\n",
       " '2011-03-06',\n",
       " '2011-03-06',\n",
       " '2013-12-25',\n",
       " '2013-10-06',\n",
       " '2015-04-05']"
      ]
     },
     "execution_count": 47,
     "metadata": {},
     "output_type": "execute_result"
    }
   ],
   "source": [
    "review_date"
   ]
  },
  {
   "cell_type": "code",
   "execution_count": 48,
   "metadata": {
    "collapsed": true
   },
   "outputs": [],
   "source": [
    "ratings = [content['content'] for content in soup.find_all('meta', attrs={'itemprop': 'ratingValue'})][1:]"
   ]
  },
  {
   "cell_type": "code",
   "execution_count": 49,
   "metadata": {
    "collapsed": true
   },
   "outputs": [],
   "source": [
    "ratings_num = [int(rating) for rating in ratings]"
   ]
  },
  {
   "cell_type": "code",
   "execution_count": 50,
   "metadata": {},
   "outputs": [
    {
     "data": {
      "text/plain": [
       "4.4358974358974361"
      ]
     },
     "execution_count": 50,
     "metadata": {},
     "output_type": "execute_result"
    }
   ],
   "source": [
    "np.mean(ratings_num)"
   ]
  },
  {
   "cell_type": "code",
   "execution_count": 51,
   "metadata": {
    "collapsed": true
   },
   "outputs": [],
   "source": [
    "auth_rev = {author: rating for (author, rating) in zip(authors, ratings)}"
   ]
  },
  {
   "cell_type": "code",
   "execution_count": 52,
   "metadata": {},
   "outputs": [
    {
     "data": {
      "text/plain": [
       "{'2kids4me': '2',\n",
       " 'ABIANNE': '5',\n",
       " 'AcaCandy': '5',\n",
       " 'Amanda Chisholm': '5',\n",
       " 'COOKIE382': '5',\n",
       " 'Crystil': '5',\n",
       " 'Dave Turner': '5',\n",
       " 'ERINCMULL': '4',\n",
       " 'Hapygrl': '5',\n",
       " 'IXXXIA': '5',\n",
       " 'JENIFER13': '1',\n",
       " 'JessamineJohn': '5',\n",
       " 'Kathy Stuart Dobson': '5',\n",
       " 'Kristinmu': '5',\n",
       " 'Margo': '5',\n",
       " 'Mark': '5',\n",
       " 'Mary Jo Marino Rhodes': '4',\n",
       " 'Michelle Dooney': '4',\n",
       " 'Nathalie M': '5',\n",
       " 'QueenKey': '5',\n",
       " 'RavinSunkiller': '4',\n",
       " 'Teresa Fortner': '5',\n",
       " 'ahmz': '4',\n",
       " 'ayrlyn': '5',\n",
       " 'cindy': '5',\n",
       " 'krauler': '5',\n",
       " 'mommie': '5',\n",
       " 'sdcross': '5'}"
      ]
     },
     "execution_count": 52,
     "metadata": {},
     "output_type": "execute_result"
    }
   ],
   "source": [
    "auth_rev"
   ]
  },
  {
   "cell_type": "code",
   "execution_count": 18,
   "metadata": {
    "collapsed": true
   },
   "outputs": [],
   "source": [
    "driver.quit()"
   ]
  },
  {
   "cell_type": "code",
   "execution_count": 5,
   "metadata": {
    "collapsed": true
   },
   "outputs": [],
   "source": [
    "def pickle_opener(filename):\n",
    "    with open(filename, 'rb') as f:\n",
    "        link_list = pickle.load(f)\n",
    "#     link_list = list(link_dict.values())\n",
    "    print(link_list[:25])"
   ]
  },
  {
   "cell_type": "code",
   "execution_count": 6,
   "metadata": {},
   "outputs": [
    {
     "name": "stdout",
     "output_type": "stream",
     "text": [
      "['/recipe/221962/roast-beef-tenderloin/', '/recipe/25202/beef-stroganoff-iii/', '/recipe/219173/simple-beef-pot-roast/', '/recipes/728/world-cuisine/latin-american/mexican/', '/recipes/739/healthy-recipes/diabetic/', '/recipes/1231/healthy-recipes/low-fat/', '/recipes/276/desserts/cakes/', '/recipe/132351/fabulous-beef-tenderloin/', '/recipes/94/soups-stews-and-chili/', '/recipe/219046/rich-and-creamy-beef-stroganoff/', '/recipe/220125/slow-cooker-beef-pot-roast/', '/recipes/138/drinks/smoothies/', '/recipes/78/breakfast-and-brunch/', '/recipe/14646/barbecued-beef/', '/recipe/16427/slow-cooker-italian-beef-for-sandwiches/', '/recipe/231030/braised-corned-beef-brisket/', '/recipes/253/everyday-cooking/slow-cooker/', '/recipes/15876/us-recipes/southern/', '/recipes/156/bread/', '/recipe/84270/slow-cooker-corned-beef-and-cabbage/', '/recipe/158140/spaghetti-sauce-with-ground-beef/', '/recipes/741/healthy-recipes/gluten-free/', '/recipes/205/meat-and-poultry/pork/', '/recipe/13023/beef-barley-vegetable-soup/', '/recipe/25678/beef-stew-vi/']\n"
     ]
    }
   ],
   "source": [
    "pickle_opener('data/allrecipe_beef_recipelist.pkl')"
   ]
  },
  {
   "cell_type": "code",
   "execution_count": 24,
   "metadata": {},
   "outputs": [
    {
     "data": {
      "text/plain": [
       "False"
      ]
     },
     "execution_count": 24,
     "metadata": {},
     "output_type": "execute_result"
    }
   ],
   "source": [
    "350 //  100 == 350 / 100"
   ]
  },
  {
   "cell_type": "code",
   "execution_count": 20,
   "metadata": {},
   "outputs": [
    {
     "data": {
      "text/plain": [
       "0"
      ]
     },
     "execution_count": 20,
     "metadata": {},
     "output_type": "execute_result"
    }
   ],
   "source": [
    "300 % 100"
   ]
  },
  {
   "cell_type": "code",
   "execution_count": 27,
   "metadata": {},
   "outputs": [
    {
     "data": {
      "text/plain": [
       "(3,)"
      ]
     },
     "execution_count": 27,
     "metadata": {},
     "output_type": "execute_result"
    }
   ],
   "source": [
    "cost.shape"
   ]
  },
  {
   "cell_type": "code",
   "execution_count": 1,
   "metadata": {
    "collapsed": true
   },
   "outputs": [],
   "source": [
    "exb = {'a':{'b': '23'}}"
   ]
  },
  {
   "cell_type": "code",
   "execution_count": 5,
   "metadata": {},
   "outputs": [
    {
     "name": "stdout",
     "output_type": "stream",
     "text": [
      "dict_keys(['b'])\n"
     ]
    }
   ],
   "source": [
    "for dct in exb.values():\n",
    "    print(dct.keys())"
   ]
  },
  {
   "cell_type": "code",
   "execution_count": null,
   "metadata": {
    "collapsed": true
   },
   "outputs": [],
   "source": []
  }
 ],
 "metadata": {
  "anaconda-cloud": {},
  "kernelspec": {
   "display_name": "Python 3",
   "language": "python",
   "name": "python3"
  },
  "language_info": {
   "codemirror_mode": {
    "name": "ipython",
    "version": 3
   },
   "file_extension": ".py",
   "mimetype": "text/x-python",
   "name": "python",
   "nbconvert_exporter": "python",
   "pygments_lexer": "ipython3",
   "version": "3.6.1"
  }
 },
 "nbformat": 4,
 "nbformat_minor": 1
}
